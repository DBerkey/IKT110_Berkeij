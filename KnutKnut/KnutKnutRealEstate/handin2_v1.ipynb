{
 "cells": [
  {
   "cell_type": "markdown",
   "metadata": {},
   "source": [
    "### Handin 2\n",
    "\n",
    "\n",
    "# Info\n",
    "Everything should be completed and approved in person. Groups are fine, as 1 random person will have to present on behalf of the group.\n",
    "\n",
    "The objectives for this handin is:\n",
    "* Investigate loss curves\n",
    "* Linear Regression\n",
    "* Feature Encoding \n",
    "* Simple Interface with Dash\n",
    "* Speeding up with Numba"
   ]
  },
  {
   "cell_type": "markdown",
   "metadata": {},
   "source": [
    "\n",
    "# Task 1\n",
    "\n",
    "Prove that there exist an $\\alpha \\in R$ such that $y$ becomes 2.  (Taken from a math exam at BI Nydalen)\n",
    "\n",
    "1) $\\alpha x + y = 4$   \n",
    "2) $-x + 3y = 2$  \n"
   ]
  },
  {
   "cell_type": "markdown",
   "metadata": {},
   "source": [
    "$\\alpha = 0.5$\n",
    "$x = 4$\n",
    "$y = 2$"
   ]
  },
  {
   "cell_type": "markdown",
   "metadata": {},
   "source": [
    "# Task 2 -- Investigating the loss curve\n",
    "\n",
    "\n",
    "We are going to investigate how an algorithm navigates the L2 loss curve.\n",
    "\n",
    "To this end we will first use our very simple model $f_\\theta(x) = \\theta$ to model the training data given below.\n",
    "\n",
    "\n",
    "### Task 2a\n",
    "Visualize the model $f_\\theta(x)$ with  $\\theta=0.34$  alongside the training data in the plot below.\n"
   ]
  },
  {
   "cell_type": "code",
   "execution_count": 7,
   "metadata": {},
   "outputs": [
    {
     "data": {
      "application/vnd.plotly.v1+json": {
       "config": {
        "plotlyServerURL": "https://plot.ly"
       },
       "data": [
        {
         "hovertemplate": "x=%{x}<br>y=%{y}<extra></extra>",
         "legendgroup": "",
         "marker": {
          "color": "#636efa",
          "symbol": "circle"
         },
         "mode": "markers",
         "name": "",
         "orientation": "v",
         "showlegend": false,
         "type": "scatter",
         "x": {
          "bdata": "AAAAAAAAAACamZmZmZmZP5qZmZmZmak/NDMzMzMzsz+amZmZmZm5PwAAAAAAAMA/NDMzMzMzwz9nZmZmZmbGP5qZmZmZmck/zczMzMzMzD8AAAAAAADQP5qZmZmZmdE/NDMzMzMz0z/NzMzMzMzUP2dmZmZmZtY/AAAAAAAA2D+amZmZmZnZPzQzMzMzM9s/zczMzMzM3D9nZmZmZmbePwAAAAAAAOA/zczMzMzM4D+amZmZmZnhP2dmZmZmZuI/NDMzMzMz4z8AAAAAAADkP83MzMzMzOQ/mpmZmZmZ5T9nZmZmZmbmPzQzMzMzM+c/AAAAAAAA6D/NzMzMzMzoP5qZmZmZmek/Z2ZmZmZm6j80MzMzMzPrPwAAAAAAAOw/zczMzMzM7D+amZmZmZntP2dmZmZmZu4/NDMzMzMz7z8=",
          "dtype": "f8"
         },
         "xaxis": "x",
         "y": {
          "bdata": "w+cq/MEd7D8iFy/BvIHQP8BM9GaNF9g/Zp43EA741D9KD0zUaazeP0mK5hA+9OI/MDQe14H74j8GrqASZdDXP4JmWxEVjeI/DmOzhEjj0z8dwRzmo+jaP04H+JHms+U/ntk9Jk6n4j+KX/xywOfhP4d4BAYl0PQ/ZP8Tz3jx4z+XaLV95YfmPzq2YsP5eOs/zFTnbwdD3j88ji3nFb/nP92s1glxUuM/NL62x3Um6T/O9r0skBjoP0x3ppQILOE/hYM71Rr67D/OV48bb2biP8P4QfvNreI/8LbKqaUY8D/MS/g17svZPw/XB66woO4/tJaIVQ4y3j+u05QWPwHlPwS04a+1BPM/MLJNs5jk6D8M6UX7BY3nPxnh/751Ce4/8mKwRZcs6D/Q2osCUPztPzPEXo/J9ug/hnyj2w6o8D8=",
          "dtype": "f8"
         },
         "yaxis": "y"
        },
        {
         "line": {
          "color": "orange"
         },
         "mode": "lines",
         "name": "fθ(x)=0.34",
         "type": "scatter",
         "x": {
          "bdata": "AAAAAAAAAACamZmZmZmZP5qZmZmZmak/NDMzMzMzsz+amZmZmZm5PwAAAAAAAMA/NDMzMzMzwz9nZmZmZmbGP5qZmZmZmck/zczMzMzMzD8AAAAAAADQP5qZmZmZmdE/NDMzMzMz0z/NzMzMzMzUP2dmZmZmZtY/AAAAAAAA2D+amZmZmZnZPzQzMzMzM9s/zczMzMzM3D9nZmZmZmbePwAAAAAAAOA/zczMzMzM4D+amZmZmZnhP2dmZmZmZuI/NDMzMzMz4z8AAAAAAADkP83MzMzMzOQ/mpmZmZmZ5T9nZmZmZmbmPzQzMzMzM+c/AAAAAAAA6D/NzMzMzMzoP5qZmZmZmek/Z2ZmZmZm6j80MzMzMzPrPwAAAAAAAOw/zczMzMzM7D+amZmZmZntP2dmZmZmZu4/NDMzMzMz7z8=",
          "dtype": "f8"
         },
         "y": {
          "bdata": "w/UoXI/C1T/D9Shcj8LVP8P1KFyPwtU/w/UoXI/C1T/D9Shcj8LVP8P1KFyPwtU/w/UoXI/C1T/D9Shcj8LVP8P1KFyPwtU/w/UoXI/C1T/D9Shcj8LVP8P1KFyPwtU/w/UoXI/C1T/D9Shcj8LVP8P1KFyPwtU/w/UoXI/C1T/D9Shcj8LVP8P1KFyPwtU/w/UoXI/C1T/D9Shcj8LVP8P1KFyPwtU/w/UoXI/C1T/D9Shcj8LVP8P1KFyPwtU/w/UoXI/C1T/D9Shcj8LVP8P1KFyPwtU/w/UoXI/C1T/D9Shcj8LVP8P1KFyPwtU/w/UoXI/C1T/D9Shcj8LVP8P1KFyPwtU/w/UoXI/C1T/D9Shcj8LVP8P1KFyPwtU/w/UoXI/C1T/D9Shcj8LVP8P1KFyPwtU/w/UoXI/C1T8=",
          "dtype": "f8"
         }
        }
       ],
       "layout": {
        "legend": {
         "tracegroupgap": 0
        },
        "template": {
         "data": {
          "bar": [
           {
            "error_x": {
             "color": "#2a3f5f"
            },
            "error_y": {
             "color": "#2a3f5f"
            },
            "marker": {
             "line": {
              "color": "#E5ECF6",
              "width": 0.5
             },
             "pattern": {
              "fillmode": "overlay",
              "size": 10,
              "solidity": 0.2
             }
            },
            "type": "bar"
           }
          ],
          "barpolar": [
           {
            "marker": {
             "line": {
              "color": "#E5ECF6",
              "width": 0.5
             },
             "pattern": {
              "fillmode": "overlay",
              "size": 10,
              "solidity": 0.2
             }
            },
            "type": "barpolar"
           }
          ],
          "carpet": [
           {
            "aaxis": {
             "endlinecolor": "#2a3f5f",
             "gridcolor": "white",
             "linecolor": "white",
             "minorgridcolor": "white",
             "startlinecolor": "#2a3f5f"
            },
            "baxis": {
             "endlinecolor": "#2a3f5f",
             "gridcolor": "white",
             "linecolor": "white",
             "minorgridcolor": "white",
             "startlinecolor": "#2a3f5f"
            },
            "type": "carpet"
           }
          ],
          "choropleth": [
           {
            "colorbar": {
             "outlinewidth": 0,
             "ticks": ""
            },
            "type": "choropleth"
           }
          ],
          "contour": [
           {
            "colorbar": {
             "outlinewidth": 0,
             "ticks": ""
            },
            "colorscale": [
             [
              0,
              "#0d0887"
             ],
             [
              0.1111111111111111,
              "#46039f"
             ],
             [
              0.2222222222222222,
              "#7201a8"
             ],
             [
              0.3333333333333333,
              "#9c179e"
             ],
             [
              0.4444444444444444,
              "#bd3786"
             ],
             [
              0.5555555555555556,
              "#d8576b"
             ],
             [
              0.6666666666666666,
              "#ed7953"
             ],
             [
              0.7777777777777778,
              "#fb9f3a"
             ],
             [
              0.8888888888888888,
              "#fdca26"
             ],
             [
              1,
              "#f0f921"
             ]
            ],
            "type": "contour"
           }
          ],
          "contourcarpet": [
           {
            "colorbar": {
             "outlinewidth": 0,
             "ticks": ""
            },
            "type": "contourcarpet"
           }
          ],
          "heatmap": [
           {
            "colorbar": {
             "outlinewidth": 0,
             "ticks": ""
            },
            "colorscale": [
             [
              0,
              "#0d0887"
             ],
             [
              0.1111111111111111,
              "#46039f"
             ],
             [
              0.2222222222222222,
              "#7201a8"
             ],
             [
              0.3333333333333333,
              "#9c179e"
             ],
             [
              0.4444444444444444,
              "#bd3786"
             ],
             [
              0.5555555555555556,
              "#d8576b"
             ],
             [
              0.6666666666666666,
              "#ed7953"
             ],
             [
              0.7777777777777778,
              "#fb9f3a"
             ],
             [
              0.8888888888888888,
              "#fdca26"
             ],
             [
              1,
              "#f0f921"
             ]
            ],
            "type": "heatmap"
           }
          ],
          "histogram": [
           {
            "marker": {
             "pattern": {
              "fillmode": "overlay",
              "size": 10,
              "solidity": 0.2
             }
            },
            "type": "histogram"
           }
          ],
          "histogram2d": [
           {
            "colorbar": {
             "outlinewidth": 0,
             "ticks": ""
            },
            "colorscale": [
             [
              0,
              "#0d0887"
             ],
             [
              0.1111111111111111,
              "#46039f"
             ],
             [
              0.2222222222222222,
              "#7201a8"
             ],
             [
              0.3333333333333333,
              "#9c179e"
             ],
             [
              0.4444444444444444,
              "#bd3786"
             ],
             [
              0.5555555555555556,
              "#d8576b"
             ],
             [
              0.6666666666666666,
              "#ed7953"
             ],
             [
              0.7777777777777778,
              "#fb9f3a"
             ],
             [
              0.8888888888888888,
              "#fdca26"
             ],
             [
              1,
              "#f0f921"
             ]
            ],
            "type": "histogram2d"
           }
          ],
          "histogram2dcontour": [
           {
            "colorbar": {
             "outlinewidth": 0,
             "ticks": ""
            },
            "colorscale": [
             [
              0,
              "#0d0887"
             ],
             [
              0.1111111111111111,
              "#46039f"
             ],
             [
              0.2222222222222222,
              "#7201a8"
             ],
             [
              0.3333333333333333,
              "#9c179e"
             ],
             [
              0.4444444444444444,
              "#bd3786"
             ],
             [
              0.5555555555555556,
              "#d8576b"
             ],
             [
              0.6666666666666666,
              "#ed7953"
             ],
             [
              0.7777777777777778,
              "#fb9f3a"
             ],
             [
              0.8888888888888888,
              "#fdca26"
             ],
             [
              1,
              "#f0f921"
             ]
            ],
            "type": "histogram2dcontour"
           }
          ],
          "mesh3d": [
           {
            "colorbar": {
             "outlinewidth": 0,
             "ticks": ""
            },
            "type": "mesh3d"
           }
          ],
          "parcoords": [
           {
            "line": {
             "colorbar": {
              "outlinewidth": 0,
              "ticks": ""
             }
            },
            "type": "parcoords"
           }
          ],
          "pie": [
           {
            "automargin": true,
            "type": "pie"
           }
          ],
          "scatter": [
           {
            "fillpattern": {
             "fillmode": "overlay",
             "size": 10,
             "solidity": 0.2
            },
            "type": "scatter"
           }
          ],
          "scatter3d": [
           {
            "line": {
             "colorbar": {
              "outlinewidth": 0,
              "ticks": ""
             }
            },
            "marker": {
             "colorbar": {
              "outlinewidth": 0,
              "ticks": ""
             }
            },
            "type": "scatter3d"
           }
          ],
          "scattercarpet": [
           {
            "marker": {
             "colorbar": {
              "outlinewidth": 0,
              "ticks": ""
             }
            },
            "type": "scattercarpet"
           }
          ],
          "scattergeo": [
           {
            "marker": {
             "colorbar": {
              "outlinewidth": 0,
              "ticks": ""
             }
            },
            "type": "scattergeo"
           }
          ],
          "scattergl": [
           {
            "marker": {
             "colorbar": {
              "outlinewidth": 0,
              "ticks": ""
             }
            },
            "type": "scattergl"
           }
          ],
          "scattermap": [
           {
            "marker": {
             "colorbar": {
              "outlinewidth": 0,
              "ticks": ""
             }
            },
            "type": "scattermap"
           }
          ],
          "scattermapbox": [
           {
            "marker": {
             "colorbar": {
              "outlinewidth": 0,
              "ticks": ""
             }
            },
            "type": "scattermapbox"
           }
          ],
          "scatterpolar": [
           {
            "marker": {
             "colorbar": {
              "outlinewidth": 0,
              "ticks": ""
             }
            },
            "type": "scatterpolar"
           }
          ],
          "scatterpolargl": [
           {
            "marker": {
             "colorbar": {
              "outlinewidth": 0,
              "ticks": ""
             }
            },
            "type": "scatterpolargl"
           }
          ],
          "scatterternary": [
           {
            "marker": {
             "colorbar": {
              "outlinewidth": 0,
              "ticks": ""
             }
            },
            "type": "scatterternary"
           }
          ],
          "surface": [
           {
            "colorbar": {
             "outlinewidth": 0,
             "ticks": ""
            },
            "colorscale": [
             [
              0,
              "#0d0887"
             ],
             [
              0.1111111111111111,
              "#46039f"
             ],
             [
              0.2222222222222222,
              "#7201a8"
             ],
             [
              0.3333333333333333,
              "#9c179e"
             ],
             [
              0.4444444444444444,
              "#bd3786"
             ],
             [
              0.5555555555555556,
              "#d8576b"
             ],
             [
              0.6666666666666666,
              "#ed7953"
             ],
             [
              0.7777777777777778,
              "#fb9f3a"
             ],
             [
              0.8888888888888888,
              "#fdca26"
             ],
             [
              1,
              "#f0f921"
             ]
            ],
            "type": "surface"
           }
          ],
          "table": [
           {
            "cells": {
             "fill": {
              "color": "#EBF0F8"
             },
             "line": {
              "color": "white"
             }
            },
            "header": {
             "fill": {
              "color": "#C8D4E3"
             },
             "line": {
              "color": "white"
             }
            },
            "type": "table"
           }
          ]
         },
         "layout": {
          "annotationdefaults": {
           "arrowcolor": "#2a3f5f",
           "arrowhead": 0,
           "arrowwidth": 1
          },
          "autotypenumbers": "strict",
          "coloraxis": {
           "colorbar": {
            "outlinewidth": 0,
            "ticks": ""
           }
          },
          "colorscale": {
           "diverging": [
            [
             0,
             "#8e0152"
            ],
            [
             0.1,
             "#c51b7d"
            ],
            [
             0.2,
             "#de77ae"
            ],
            [
             0.3,
             "#f1b6da"
            ],
            [
             0.4,
             "#fde0ef"
            ],
            [
             0.5,
             "#f7f7f7"
            ],
            [
             0.6,
             "#e6f5d0"
            ],
            [
             0.7,
             "#b8e186"
            ],
            [
             0.8,
             "#7fbc41"
            ],
            [
             0.9,
             "#4d9221"
            ],
            [
             1,
             "#276419"
            ]
           ],
           "sequential": [
            [
             0,
             "#0d0887"
            ],
            [
             0.1111111111111111,
             "#46039f"
            ],
            [
             0.2222222222222222,
             "#7201a8"
            ],
            [
             0.3333333333333333,
             "#9c179e"
            ],
            [
             0.4444444444444444,
             "#bd3786"
            ],
            [
             0.5555555555555556,
             "#d8576b"
            ],
            [
             0.6666666666666666,
             "#ed7953"
            ],
            [
             0.7777777777777778,
             "#fb9f3a"
            ],
            [
             0.8888888888888888,
             "#fdca26"
            ],
            [
             1,
             "#f0f921"
            ]
           ],
           "sequentialminus": [
            [
             0,
             "#0d0887"
            ],
            [
             0.1111111111111111,
             "#46039f"
            ],
            [
             0.2222222222222222,
             "#7201a8"
            ],
            [
             0.3333333333333333,
             "#9c179e"
            ],
            [
             0.4444444444444444,
             "#bd3786"
            ],
            [
             0.5555555555555556,
             "#d8576b"
            ],
            [
             0.6666666666666666,
             "#ed7953"
            ],
            [
             0.7777777777777778,
             "#fb9f3a"
            ],
            [
             0.8888888888888888,
             "#fdca26"
            ],
            [
             1,
             "#f0f921"
            ]
           ]
          },
          "colorway": [
           "#636efa",
           "#EF553B",
           "#00cc96",
           "#ab63fa",
           "#FFA15A",
           "#19d3f3",
           "#FF6692",
           "#B6E880",
           "#FF97FF",
           "#FECB52"
          ],
          "font": {
           "color": "#2a3f5f"
          },
          "geo": {
           "bgcolor": "white",
           "lakecolor": "white",
           "landcolor": "#E5ECF6",
           "showlakes": true,
           "showland": true,
           "subunitcolor": "white"
          },
          "hoverlabel": {
           "align": "left"
          },
          "hovermode": "closest",
          "mapbox": {
           "style": "light"
          },
          "paper_bgcolor": "white",
          "plot_bgcolor": "#E5ECF6",
          "polar": {
           "angularaxis": {
            "gridcolor": "white",
            "linecolor": "white",
            "ticks": ""
           },
           "bgcolor": "#E5ECF6",
           "radialaxis": {
            "gridcolor": "white",
            "linecolor": "white",
            "ticks": ""
           }
          },
          "scene": {
           "xaxis": {
            "backgroundcolor": "#E5ECF6",
            "gridcolor": "white",
            "gridwidth": 2,
            "linecolor": "white",
            "showbackground": true,
            "ticks": "",
            "zerolinecolor": "white"
           },
           "yaxis": {
            "backgroundcolor": "#E5ECF6",
            "gridcolor": "white",
            "gridwidth": 2,
            "linecolor": "white",
            "showbackground": true,
            "ticks": "",
            "zerolinecolor": "white"
           },
           "zaxis": {
            "backgroundcolor": "#E5ECF6",
            "gridcolor": "white",
            "gridwidth": 2,
            "linecolor": "white",
            "showbackground": true,
            "ticks": "",
            "zerolinecolor": "white"
           }
          },
          "shapedefaults": {
           "line": {
            "color": "#2a3f5f"
           }
          },
          "ternary": {
           "aaxis": {
            "gridcolor": "white",
            "linecolor": "white",
            "ticks": ""
           },
           "baxis": {
            "gridcolor": "white",
            "linecolor": "white",
            "ticks": ""
           },
           "bgcolor": "#E5ECF6",
           "caxis": {
            "gridcolor": "white",
            "linecolor": "white",
            "ticks": ""
           }
          },
          "title": {
           "x": 0.05
          },
          "xaxis": {
           "automargin": true,
           "gridcolor": "white",
           "linecolor": "white",
           "ticks": "",
           "title": {
            "standoff": 15
           },
           "zerolinecolor": "white",
           "zerolinewidth": 2
          },
          "yaxis": {
           "automargin": true,
           "gridcolor": "white",
           "linecolor": "white",
           "ticks": "",
           "title": {
            "standoff": 15
           },
           "zerolinecolor": "white",
           "zerolinewidth": 2
          }
         }
        },
        "title": {
         "text": "Model fθ(x)=0.34 vs Training Data"
        },
        "xaxis": {
         "anchor": "y",
         "domain": [
          0,
          1
         ],
         "title": {
          "text": "x"
         }
        },
        "yaxis": {
         "anchor": "x",
         "domain": [
          0,
          1
         ],
         "title": {
          "text": "y"
         }
        }
       }
      }
     },
     "metadata": {},
     "output_type": "display_data"
    }
   ],
   "source": [
    "import numpy as np\n",
    "import plotly.express as px\n",
    "\n",
    "# Training data\n",
    "x_train = np.arange(0.0, 1.0, 0.025)\n",
    "y_train = 0.4 + x_train * 0.55 + np.random.randn(x_train.shape[0]) * 0.2\n",
    "\n",
    "# Scatter plot of training data\n",
    "fig = px.scatter(x=x_train, y=y_train, title=\"Model fθ(x)=0.34 vs Training Data\",\n",
    "                 labels={\"x\": \"x\", \"y\": \"y\"})\n",
    "\n",
    "# Add model line fθ(x) = 0.34\n",
    "fig.add_scatter(x=x_train, y=np.full_like(x_train, 0.34),\n",
    "                mode=\"lines\", name=\"fθ(x)=0.34\", line=dict(color=\"orange\"))\n",
    "\n",
    "# Show plot\n",
    "fig.show()\n"
   ]
  },
  {
   "cell_type": "markdown",
   "metadata": {},
   "source": [
    "### Task 2b\n",
    "\n",
    "Create a plot that shows the loss curve for $\\theta$ in the range [0, 1], using the Mean Squared Error loss function.  \n",
    "That is, $L(x, y) = \\frac{1}{m} \\sum [ f_\\theta(x_k) - y_k)^2 ]$. Where $m$ is the number of data points in the training set. Remember: $f_{\\theta}(x) = \\theta$.\n",
    "\n",
    "\n",
    "Using the plot find the value of $\\theta$ that minimize the loss."
   ]
  },
  {
   "cell_type": "code",
   "execution_count": 8,
   "metadata": {},
   "outputs": [
    {
     "name": "stdout",
     "output_type": "stream",
     "text": [
      "Numeric argmin theta: 0.677355, loss: 0.056445\n",
      "Analytic minimizer (mean of y_train): 0.677588\n"
     ]
    },
    {
     "data": {
      "application/vnd.plotly.v1+json": {
       "config": {
        "plotlyServerURL": "https://plot.ly"
       },
       "data": [
        {
         "mode": "lines",
         "name": "MSE Loss",
         "type": "scatter",
         "x": {
          "bdata": "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",
          "dtype": "f8"
         },
         "y": {
          "bdata": "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",
          "dtype": "f8"
         }
        },
        {
         "marker": {
          "color": "red",
          "size": 10
         },
         "mode": "markers",
         "name": "grid argmin = 0.6774",
         "type": "scatter",
         "x": [
          0.6773547094188376
         ],
         "y": [
          0.056444694613478695
         ]
        }
       ],
       "layout": {
        "annotations": [
         {
          "showarrow": false,
          "text": "analytic mean = 0.6776",
          "x": 0.6775884729943964,
          "xanchor": "right",
          "xref": "x",
          "y": 1,
          "yanchor": "top",
          "yref": "y domain"
         }
        ],
        "shapes": [
         {
          "line": {
           "color": "green",
           "dash": "dash"
          },
          "type": "line",
          "x0": 0.6775884729943964,
          "x1": 0.6775884729943964,
          "xref": "x",
          "y0": 0,
          "y1": 1,
          "yref": "y domain"
         }
        ],
        "template": {
         "data": {
          "bar": [
           {
            "error_x": {
             "color": "#2a3f5f"
            },
            "error_y": {
             "color": "#2a3f5f"
            },
            "marker": {
             "line": {
              "color": "#E5ECF6",
              "width": 0.5
             },
             "pattern": {
              "fillmode": "overlay",
              "size": 10,
              "solidity": 0.2
             }
            },
            "type": "bar"
           }
          ],
          "barpolar": [
           {
            "marker": {
             "line": {
              "color": "#E5ECF6",
              "width": 0.5
             },
             "pattern": {
              "fillmode": "overlay",
              "size": 10,
              "solidity": 0.2
             }
            },
            "type": "barpolar"
           }
          ],
          "carpet": [
           {
            "aaxis": {
             "endlinecolor": "#2a3f5f",
             "gridcolor": "white",
             "linecolor": "white",
             "minorgridcolor": "white",
             "startlinecolor": "#2a3f5f"
            },
            "baxis": {
             "endlinecolor": "#2a3f5f",
             "gridcolor": "white",
             "linecolor": "white",
             "minorgridcolor": "white",
             "startlinecolor": "#2a3f5f"
            },
            "type": "carpet"
           }
          ],
          "choropleth": [
           {
            "colorbar": {
             "outlinewidth": 0,
             "ticks": ""
            },
            "type": "choropleth"
           }
          ],
          "contour": [
           {
            "colorbar": {
             "outlinewidth": 0,
             "ticks": ""
            },
            "colorscale": [
             [
              0,
              "#0d0887"
             ],
             [
              0.1111111111111111,
              "#46039f"
             ],
             [
              0.2222222222222222,
              "#7201a8"
             ],
             [
              0.3333333333333333,
              "#9c179e"
             ],
             [
              0.4444444444444444,
              "#bd3786"
             ],
             [
              0.5555555555555556,
              "#d8576b"
             ],
             [
              0.6666666666666666,
              "#ed7953"
             ],
             [
              0.7777777777777778,
              "#fb9f3a"
             ],
             [
              0.8888888888888888,
              "#fdca26"
             ],
             [
              1,
              "#f0f921"
             ]
            ],
            "type": "contour"
           }
          ],
          "contourcarpet": [
           {
            "colorbar": {
             "outlinewidth": 0,
             "ticks": ""
            },
            "type": "contourcarpet"
           }
          ],
          "heatmap": [
           {
            "colorbar": {
             "outlinewidth": 0,
             "ticks": ""
            },
            "colorscale": [
             [
              0,
              "#0d0887"
             ],
             [
              0.1111111111111111,
              "#46039f"
             ],
             [
              0.2222222222222222,
              "#7201a8"
             ],
             [
              0.3333333333333333,
              "#9c179e"
             ],
             [
              0.4444444444444444,
              "#bd3786"
             ],
             [
              0.5555555555555556,
              "#d8576b"
             ],
             [
              0.6666666666666666,
              "#ed7953"
             ],
             [
              0.7777777777777778,
              "#fb9f3a"
             ],
             [
              0.8888888888888888,
              "#fdca26"
             ],
             [
              1,
              "#f0f921"
             ]
            ],
            "type": "heatmap"
           }
          ],
          "histogram": [
           {
            "marker": {
             "pattern": {
              "fillmode": "overlay",
              "size": 10,
              "solidity": 0.2
             }
            },
            "type": "histogram"
           }
          ],
          "histogram2d": [
           {
            "colorbar": {
             "outlinewidth": 0,
             "ticks": ""
            },
            "colorscale": [
             [
              0,
              "#0d0887"
             ],
             [
              0.1111111111111111,
              "#46039f"
             ],
             [
              0.2222222222222222,
              "#7201a8"
             ],
             [
              0.3333333333333333,
              "#9c179e"
             ],
             [
              0.4444444444444444,
              "#bd3786"
             ],
             [
              0.5555555555555556,
              "#d8576b"
             ],
             [
              0.6666666666666666,
              "#ed7953"
             ],
             [
              0.7777777777777778,
              "#fb9f3a"
             ],
             [
              0.8888888888888888,
              "#fdca26"
             ],
             [
              1,
              "#f0f921"
             ]
            ],
            "type": "histogram2d"
           }
          ],
          "histogram2dcontour": [
           {
            "colorbar": {
             "outlinewidth": 0,
             "ticks": ""
            },
            "colorscale": [
             [
              0,
              "#0d0887"
             ],
             [
              0.1111111111111111,
              "#46039f"
             ],
             [
              0.2222222222222222,
              "#7201a8"
             ],
             [
              0.3333333333333333,
              "#9c179e"
             ],
             [
              0.4444444444444444,
              "#bd3786"
             ],
             [
              0.5555555555555556,
              "#d8576b"
             ],
             [
              0.6666666666666666,
              "#ed7953"
             ],
             [
              0.7777777777777778,
              "#fb9f3a"
             ],
             [
              0.8888888888888888,
              "#fdca26"
             ],
             [
              1,
              "#f0f921"
             ]
            ],
            "type": "histogram2dcontour"
           }
          ],
          "mesh3d": [
           {
            "colorbar": {
             "outlinewidth": 0,
             "ticks": ""
            },
            "type": "mesh3d"
           }
          ],
          "parcoords": [
           {
            "line": {
             "colorbar": {
              "outlinewidth": 0,
              "ticks": ""
             }
            },
            "type": "parcoords"
           }
          ],
          "pie": [
           {
            "automargin": true,
            "type": "pie"
           }
          ],
          "scatter": [
           {
            "fillpattern": {
             "fillmode": "overlay",
             "size": 10,
             "solidity": 0.2
            },
            "type": "scatter"
           }
          ],
          "scatter3d": [
           {
            "line": {
             "colorbar": {
              "outlinewidth": 0,
              "ticks": ""
             }
            },
            "marker": {
             "colorbar": {
              "outlinewidth": 0,
              "ticks": ""
             }
            },
            "type": "scatter3d"
           }
          ],
          "scattercarpet": [
           {
            "marker": {
             "colorbar": {
              "outlinewidth": 0,
              "ticks": ""
             }
            },
            "type": "scattercarpet"
           }
          ],
          "scattergeo": [
           {
            "marker": {
             "colorbar": {
              "outlinewidth": 0,
              "ticks": ""
             }
            },
            "type": "scattergeo"
           }
          ],
          "scattergl": [
           {
            "marker": {
             "colorbar": {
              "outlinewidth": 0,
              "ticks": ""
             }
            },
            "type": "scattergl"
           }
          ],
          "scattermap": [
           {
            "marker": {
             "colorbar": {
              "outlinewidth": 0,
              "ticks": ""
             }
            },
            "type": "scattermap"
           }
          ],
          "scattermapbox": [
           {
            "marker": {
             "colorbar": {
              "outlinewidth": 0,
              "ticks": ""
             }
            },
            "type": "scattermapbox"
           }
          ],
          "scatterpolar": [
           {
            "marker": {
             "colorbar": {
              "outlinewidth": 0,
              "ticks": ""
             }
            },
            "type": "scatterpolar"
           }
          ],
          "scatterpolargl": [
           {
            "marker": {
             "colorbar": {
              "outlinewidth": 0,
              "ticks": ""
             }
            },
            "type": "scatterpolargl"
           }
          ],
          "scatterternary": [
           {
            "marker": {
             "colorbar": {
              "outlinewidth": 0,
              "ticks": ""
             }
            },
            "type": "scatterternary"
           }
          ],
          "surface": [
           {
            "colorbar": {
             "outlinewidth": 0,
             "ticks": ""
            },
            "colorscale": [
             [
              0,
              "#0d0887"
             ],
             [
              0.1111111111111111,
              "#46039f"
             ],
             [
              0.2222222222222222,
              "#7201a8"
             ],
             [
              0.3333333333333333,
              "#9c179e"
             ],
             [
              0.4444444444444444,
              "#bd3786"
             ],
             [
              0.5555555555555556,
              "#d8576b"
             ],
             [
              0.6666666666666666,
              "#ed7953"
             ],
             [
              0.7777777777777778,
              "#fb9f3a"
             ],
             [
              0.8888888888888888,
              "#fdca26"
             ],
             [
              1,
              "#f0f921"
             ]
            ],
            "type": "surface"
           }
          ],
          "table": [
           {
            "cells": {
             "fill": {
              "color": "#EBF0F8"
             },
             "line": {
              "color": "white"
             }
            },
            "header": {
             "fill": {
              "color": "#C8D4E3"
             },
             "line": {
              "color": "white"
             }
            },
            "type": "table"
           }
          ]
         },
         "layout": {
          "annotationdefaults": {
           "arrowcolor": "#2a3f5f",
           "arrowhead": 0,
           "arrowwidth": 1
          },
          "autotypenumbers": "strict",
          "coloraxis": {
           "colorbar": {
            "outlinewidth": 0,
            "ticks": ""
           }
          },
          "colorscale": {
           "diverging": [
            [
             0,
             "#8e0152"
            ],
            [
             0.1,
             "#c51b7d"
            ],
            [
             0.2,
             "#de77ae"
            ],
            [
             0.3,
             "#f1b6da"
            ],
            [
             0.4,
             "#fde0ef"
            ],
            [
             0.5,
             "#f7f7f7"
            ],
            [
             0.6,
             "#e6f5d0"
            ],
            [
             0.7,
             "#b8e186"
            ],
            [
             0.8,
             "#7fbc41"
            ],
            [
             0.9,
             "#4d9221"
            ],
            [
             1,
             "#276419"
            ]
           ],
           "sequential": [
            [
             0,
             "#0d0887"
            ],
            [
             0.1111111111111111,
             "#46039f"
            ],
            [
             0.2222222222222222,
             "#7201a8"
            ],
            [
             0.3333333333333333,
             "#9c179e"
            ],
            [
             0.4444444444444444,
             "#bd3786"
            ],
            [
             0.5555555555555556,
             "#d8576b"
            ],
            [
             0.6666666666666666,
             "#ed7953"
            ],
            [
             0.7777777777777778,
             "#fb9f3a"
            ],
            [
             0.8888888888888888,
             "#fdca26"
            ],
            [
             1,
             "#f0f921"
            ]
           ],
           "sequentialminus": [
            [
             0,
             "#0d0887"
            ],
            [
             0.1111111111111111,
             "#46039f"
            ],
            [
             0.2222222222222222,
             "#7201a8"
            ],
            [
             0.3333333333333333,
             "#9c179e"
            ],
            [
             0.4444444444444444,
             "#bd3786"
            ],
            [
             0.5555555555555556,
             "#d8576b"
            ],
            [
             0.6666666666666666,
             "#ed7953"
            ],
            [
             0.7777777777777778,
             "#fb9f3a"
            ],
            [
             0.8888888888888888,
             "#fdca26"
            ],
            [
             1,
             "#f0f921"
            ]
           ]
          },
          "colorway": [
           "#636efa",
           "#EF553B",
           "#00cc96",
           "#ab63fa",
           "#FFA15A",
           "#19d3f3",
           "#FF6692",
           "#B6E880",
           "#FF97FF",
           "#FECB52"
          ],
          "font": {
           "color": "#2a3f5f"
          },
          "geo": {
           "bgcolor": "white",
           "lakecolor": "white",
           "landcolor": "#E5ECF6",
           "showlakes": true,
           "showland": true,
           "subunitcolor": "white"
          },
          "hoverlabel": {
           "align": "left"
          },
          "hovermode": "closest",
          "mapbox": {
           "style": "light"
          },
          "paper_bgcolor": "white",
          "plot_bgcolor": "#E5ECF6",
          "polar": {
           "angularaxis": {
            "gridcolor": "white",
            "linecolor": "white",
            "ticks": ""
           },
           "bgcolor": "#E5ECF6",
           "radialaxis": {
            "gridcolor": "white",
            "linecolor": "white",
            "ticks": ""
           }
          },
          "scene": {
           "xaxis": {
            "backgroundcolor": "#E5ECF6",
            "gridcolor": "white",
            "gridwidth": 2,
            "linecolor": "white",
            "showbackground": true,
            "ticks": "",
            "zerolinecolor": "white"
           },
           "yaxis": {
            "backgroundcolor": "#E5ECF6",
            "gridcolor": "white",
            "gridwidth": 2,
            "linecolor": "white",
            "showbackground": true,
            "ticks": "",
            "zerolinecolor": "white"
           },
           "zaxis": {
            "backgroundcolor": "#E5ECF6",
            "gridcolor": "white",
            "gridwidth": 2,
            "linecolor": "white",
            "showbackground": true,
            "ticks": "",
            "zerolinecolor": "white"
           }
          },
          "shapedefaults": {
           "line": {
            "color": "#2a3f5f"
           }
          },
          "ternary": {
           "aaxis": {
            "gridcolor": "white",
            "linecolor": "white",
            "ticks": ""
           },
           "baxis": {
            "gridcolor": "white",
            "linecolor": "white",
            "ticks": ""
           },
           "bgcolor": "#E5ECF6",
           "caxis": {
            "gridcolor": "white",
            "linecolor": "white",
            "ticks": ""
           }
          },
          "title": {
           "x": 0.05
          },
          "xaxis": {
           "automargin": true,
           "gridcolor": "white",
           "linecolor": "white",
           "ticks": "",
           "title": {
            "standoff": 15
           },
           "zerolinecolor": "white",
           "zerolinewidth": 2
          },
          "yaxis": {
           "automargin": true,
           "gridcolor": "white",
           "linecolor": "white",
           "ticks": "",
           "title": {
            "standoff": 15
           },
           "zerolinecolor": "white",
           "zerolinewidth": 2
          }
         }
        },
        "title": {
         "text": "MSE Loss vs θ (min θ=0.6774, loss=0.0564)"
        },
        "xaxis": {
         "title": {
          "text": "θ"
         }
        },
        "yaxis": {
         "title": {
          "text": "MSE Loss"
         }
        }
       }
      }
     },
     "metadata": {},
     "output_type": "display_data"
    }
   ],
   "source": [
    "import plotly.graph_objects as go\n",
    "\n",
    "# grid of theta values\n",
    "thetas = np.linspace(0.0, 1.0, 500)\n",
    "# compute MSE for each theta: L(theta) = (1/m) * sum_k (theta - y_k)^2\n",
    "losses = np.array([np.mean((y_train - t) ** 2) for t in thetas])\n",
    "\n",
    "# numeric minimizer from the grid\n",
    "min_idx = np.argmin(losses)\n",
    "theta_min = thetas[min_idx]\n",
    "loss_min = losses[min_idx]\n",
    "\n",
    "theta_analytic = np.mean(y_train)\n",
    "\n",
    "print(f\"Numeric argmin theta: {theta_min:.6f}, loss: {loss_min:.6f}\")\n",
    "print(f\"Analytic minimizer (mean of y_train): {theta_analytic:.6f}\")\n",
    "\n",
    "# plot the loss curve and mark the minimizer(s)\n",
    "fig = go.Figure()\n",
    "fig.add_trace(go.Scatter(x=thetas, y=losses, mode='lines', name='MSE Loss'))\n",
    "fig.add_trace(go.Scatter(x=[theta_min], y=[loss_min], mode='markers', name=f'grid argmin = {theta_min:.4f}', marker=dict(size=10, color='red')))\n",
    "fig.add_vline(x=theta_analytic, line=dict(color='green', dash='dash'), annotation_text=f'analytic mean = {theta_analytic:.4f}', annotation_position='top left')\n",
    "fig.update_layout(title=f'MSE Loss vs θ (min θ={theta_min:.4f}, loss={loss_min:.4f})', xaxis_title='θ', yaxis_title='MSE Loss')\n",
    "fig.show()"
   ]
  },
  {
   "cell_type": "markdown",
   "metadata": {},
   "source": [
    "The best value for $\\theta$ is 0.6776."
   ]
  },
  {
   "cell_type": "markdown",
   "metadata": {},
   "source": [
    "### Task 2c \n",
    "We have the following loss curves (same loss function as in 2b):\n",
    "![title](loss_curves_mse.png)\n",
    "\n",
    "\n",
    "\n",
    "#### Model:\n",
    "The model is of the form $f_\\theta(x) = ax + b$ with $a,b \\in \\theta$. \n",
    "Here the different curves is the loss for:\n",
    "1) Set $b = 0.1$ and $a \\in [-1, 1]$.\n",
    "2) Set $b = 0.75$ and $a \\in [-1, 1]$.\n",
    "3) Set $b = 1.5$ and $a \\in [-1, 1]$.  \n",
    "While a is between [-1, 1] (the x-axis in the plot).\n",
    "\n",
    "\n",
    "Objective: Find a set of datapoints that duplicate these graphs\n"
   ]
  },
  {
   "cell_type": "code",
   "execution_count": 22,
   "metadata": {},
   "outputs": [
    {
     "data": {
      "application/vnd.plotly.v1+json": {
       "config": {
        "plotlyServerURL": "https://plot.ly"
       },
       "data": [
        {
         "mode": "lines",
         "name": "b=0.1",
         "type": "scatter",
         "x": {
          "bdata": "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",
          "dtype": "f8"
         },
         "y": [
          2.1609,
          2.154188585989614,
          2.147487610491524,
          2.140797073505729,
          2.1341169750322293,
          2.1274473150710236,
          2.1207880936221137,
          2.1141393106854993,
          2.10750096626118,
          2.100873060349155,
          2.094255592949425,
          2.0876485640619915,
          2.0810519736868525,
          2.074465821824009,
          2.06789010847346,
          2.0613248336352066,
          2.0547699973092475,
          2.0482255994955842,
          2.0416916401942165,
          2.0351681194051428,
          2.0286550371283645,
          2.022152393363882,
          2.0156601881116942,
          2.0091784213718022,
          2.0027070931442044,
          1.9962462034289015,
          1.9897957522258944,
          1.9833557395351826,
          1.976926165356766,
          1.970507029690644,
          1.9640983325368169,
          1.9577000738952854,
          1.9513122537660492,
          1.9449348721491078,
          1.938567929044461,
          1.9322114244521105,
          1.9258653583720546,
          1.9195297308042942,
          1.9132045417488281,
          1.9068897912056573,
          1.9005854791747823,
          1.8942916056562022,
          1.8880081706499174,
          1.881735174155927,
          1.8754726161742319,
          1.8692204967048325,
          1.862978815747728,
          1.8567475733029188,
          1.8505267693704042,
          1.8443164039501847,
          1.8381164770422609,
          1.831926988646632,
          1.825747938763298,
          1.819579327392259,
          1.8134211545335157,
          1.8072734201870675,
          1.8011361243529145,
          1.795009267031056,
          1.7888928482214925,
          1.782786867924225,
          1.7766913261392525,
          1.770606222866575,
          1.7645315581061922,
          1.7584673318581046,
          1.7524135441223125,
          1.7463701948988157,
          1.7403372841876135,
          1.7343148119887062,
          1.7283027783020948,
          1.7223011831277786,
          1.7163100264657574,
          1.7103293083160314,
          1.7043590286785997,
          1.6983991875534634,
          1.6924497849406226,
          1.6865108208400772,
          1.6805822952518261,
          1.6746642081758703,
          1.6687565596122103,
          1.6628593495608452,
          1.6569725780217752,
          1.651096244995,
          1.6452303504805197,
          1.6393748944783353,
          1.6335298769884459,
          1.6276952980108517,
          1.621871157545552,
          1.6160574555925475,
          1.6102541921518387,
          1.604461367223425,
          1.5986789808073063,
          1.5929070329034825,
          1.5871455235119536,
          1.5813944526327204,
          1.5756538202657822,
          1.5699236264111387,
          1.5642038710687909,
          1.5584945542387378,
          1.5527956759209802,
          1.5471072361155178,
          1.54142923482235,
          1.535761672041478,
          1.5301045477729003,
          1.5244578620166185,
          1.5188216147726312,
          1.5131958060409396,
          1.507580435821543,
          1.5019755041144411,
          1.496381010919635,
          1.4907969562371233,
          1.4852233400669075,
          1.479660162408986,
          1.4741074232633604,
          1.4685651226300298,
          1.4630332605089937,
          1.4575118369002535,
          1.452000851803808,
          1.4465003052196577,
          1.4410101971478022,
          1.4355305275882426,
          1.4300612965409778,
          1.4246025040060077,
          1.4191541499833333,
          1.4137162344729541,
          1.4082887574748695,
          1.4028717189890805,
          1.3974651190155862,
          1.3920689575543874,
          1.3866832346054834,
          1.3813079501688748,
          1.3759431042445616,
          1.3705886968325427,
          1.3652447279328197,
          1.3599111975453912,
          1.3545881056702584,
          1.3492754523074202,
          1.3439732374568776,
          1.3386814611186302,
          1.3334001232926775,
          1.3281292239790203,
          1.3228687631776577,
          1.3176187408885909,
          1.312379157111819,
          1.307150011847342,
          1.3019313050951604,
          1.2967230368552736,
          1.2915252071276824,
          1.2863378159123862,
          1.2811608632093847,
          1.275994349018679,
          1.2708382733402677,
          1.265692636174152,
          1.260557437520331,
          1.2554326773788058,
          1.2503183557495752,
          1.24521447263264,
          1.2401210280280002,
          1.2350380219356547,
          1.2299654543556051,
          1.22490332528785,
          1.2198516347323907,
          1.2148103826892265,
          1.2097795691583568,
          1.2047591941397826,
          1.1997492576335034,
          1.1947497596395196,
          1.1897607001578305,
          1.184782079188437,
          1.1798138967313385,
          1.1748561527865349,
          1.169908847354027,
          1.164971980433814,
          1.1600455520258954,
          1.1551295621302728,
          1.1502240107469448,
          1.1453288978759124,
          1.1404442235171746,
          1.1355699876707324,
          1.1307061903365847,
          1.125852831514733,
          1.1210099112051761,
          1.1161774294079139,
          1.1113553861229475,
          1.1065437813502756,
          1.1017426150898992,
          1.0969518873418183,
          1.0921715981060316,
          1.0874017473825408,
          1.0826423351713446,
          1.077893361472444,
          1.0731548262858381,
          1.0684267296115277,
          1.0637090714495125,
          1.059001851799792,
          1.054305070662367,
          1.049618728037237,
          1.044942823924402,
          1.0402773583238625,
          1.0356223312356174,
          1.0309777426596682,
          1.0263435925960136,
          1.0217198810446546,
          1.0171066080055902,
          1.0125037734788214,
          1.0079113774643478,
          1.0033294199621687,
          0.9987579009722855,
          0.9941968204946969,
          0.9896461785294036,
          0.9851059750764054,
          0.9805762101357023,
          0.9760568837072944,
          0.9715479957911815,
          0.9670495463873641,
          0.9625615354958414,
          0.958083963116614,
          0.9536168292496817,
          0.9491601338950446,
          0.9447138770527027,
          0.9402780587226559,
          0.9358526789049041,
          0.9314377375994475,
          0.927033234806286,
          0.9226391705254198,
          0.9182555447568486,
          0.9138823575005725,
          0.9095196087565914,
          0.9051672985249056,
          0.9008254268055149,
          0.8964939935984193,
          0.892172998903619,
          0.8878624427211137,
          0.8835623250509035,
          0.8792726458929885,
          0.8749934052473686,
          0.8707246031140438,
          0.866466239493014,
          0.8622183143842798,
          0.8579808277878403,
          0.853753779703696,
          0.8495371701318469,
          0.8453309990722929,
          0.841135266525034,
          0.8369499724900703,
          0.8327751169674018,
          0.8286106999570284,
          0.82445672145895,
          0.820313181473167,
          0.8161800799996789,
          0.812057417038486,
          0.8079451925895881,
          0.8038434066529854,
          0.7997520592286779,
          0.7956711503166655,
          0.7916006799169483,
          0.7875406480295262,
          0.783491054654399,
          0.7794518997915671,
          0.7754231834410305,
          0.7714049056027887,
          0.7673970662768422,
          0.763399665463191,
          0.7594127031618346,
          0.7554361793727737,
          0.7514700940960077,
          0.7475144473315368,
          0.7435692390793611,
          0.7396344693394805,
          0.7357101381118952,
          0.7317962453966047,
          0.7278927911936097,
          0.7239997755029097,
          0.7201171983245047,
          0.7162450596583949,
          0.7123833595045802,
          0.7085320978630609,
          0.7046912747338363,
          0.7008608901169072,
          0.697040944012273,
          0.693231436419934,
          0.6894323673398902,
          0.6856437367721414,
          0.6818655447166879,
          0.6780977911735296,
          0.6743404761426663,
          0.670593599624098,
          0.6668571616178249,
          0.663131162123847,
          0.6594156011421644,
          0.6557104786727764,
          0.652015794715684,
          0.6483315492708867,
          0.6446577423383844,
          0.6409943739181772,
          0.6373414440102652,
          0.6336989526146484,
          0.6300668997313265,
          0.6264452853603,
          0.6228341095015685,
          0.6192333721551321,
          0.6156430733209908,
          0.6120632129991447,
          0.6084937911895938,
          0.6049348078923378,
          0.6013862631073772,
          0.5978481568347116,
          0.5943204890743412,
          0.5908032598262658,
          0.5872964690904856,
          0.5838001168670007,
          0.5803142031558106,
          0.5768387279569159,
          0.5733736912703163,
          0.5699190930960117,
          0.5664749334340023,
          0.563041212284288,
          0.5596179296468691,
          0.5562050855217449,
          0.5528026799089162,
          0.5494107128083824,
          0.5460291842201438,
          0.5426580941442003,
          0.5392974425805519,
          0.5359472295291988,
          0.5326074549901405,
          0.5292781189633777,
          0.5259592214489099,
          0.5226507624467372,
          0.5193527419568597,
          0.5160651599792772,
          0.5127880165139899,
          0.5095213115609977,
          0.5062650451203008,
          0.503019217191899,
          0.4997838277757922,
          0.4965588768719806,
          0.49334436448046404,
          0.49014029060124265,
          0.48694665523431657,
          0.48376345837968543,
          0.48059070003734944,
          0.47742838020730854,
          0.4742764988895628,
          0.4711350560841122,
          0.4680040517909567,
          0.46488348601009655,
          0.46177335874153136,
          0.45867366998526127,
          0.45558441974128633,
          0.4525056080096065,
          0.4494372347902218,
          0.44637930008313226,
          0.443331803888338,
          0.4402947462058387,
          0.43726812703563456,
          0.4342519463777255,
          0.43124620423211163,
          0.42825090059879284,
          0.4252660354777692,
          0.4222916088690408,
          0.4193276207726075,
          0.41637407118846925,
          0.4134309601166261,
          0.4104982875570782,
          0.4075760535098253,
          0.4046642579748676,
          0.4017629009522051,
          0.3988719824418377,
          0.39599150244376535,
          0.39312146095798817,
          0.39026185798450613,
          0.3874126935233192,
          0.3845739675744274,
          0.3817456801378309,
          0.37892783121352935,
          0.37612042080152297,
          0.3733234489018117,
          0.37053691551439555,
          0.36776082063927457,
          0.3649951642764487,
          0.36223994642591806,
          0.3594951670876825,
          0.356760826261742,
          0.3540369239480966,
          0.35132346014674654,
          0.34862043485769145,
          0.34592784808093163,
          0.3432456998164668,
          0.3405739900642971,
          0.3379127188244226,
          0.33526188609684315,
          0.3326214918815588,
          0.3299915361785697,
          0.32737201898787577,
          0.32476294030947683,
          0.3221643001433731,
          0.3195760984895644,
          0.31699833534805094,
          0.31443101071883256,
          0.31187412460190933,
          0.3093276769972813,
          0.30679166790494833,
          0.3042660973249105,
          0.30175096525716777,
          0.2992462717017202,
          0.2967520166585677,
          0.2942682001277104,
          0.2917948221091483,
          0.2893318826028813,
          0.28687938160890936,
          0.2844373191272325,
          0.28200569515785084,
          0.2795845097007643,
          0.27717376275597294,
          0.2747734543234768,
          0.27238358440327565,
          0.2700041529953696,
          0.26763516009975874,
          0.26527660571644296,
          0.2629284898454224,
          0.26059081248669685,
          0.25826357364026664,
          0.2559467733061314,
          0.25364041148429134,
          0.25134448817474636,
          0.24905900337749654,
          0.24678395709254183,
          0.24451934931988228,
          0.24226518005951794,
          0.24002144931144864,
          0.23778815707567447,
          0.23556530335219544,
          0.23335288814101152,
          0.23115091144212274,
          0.2289593732555291,
          0.2267782735812307,
          0.22460761241922741,
          0.22244738976951917,
          0.22029760563210604,
          0.21815826000698807,
          0.2160293528941652,
          0.21391088429363758,
          0.21180285420540498,
          0.2097052626294675,
          0.2076181095658252,
          0.205541395014478,
          0.20347511897542592,
          0.20141928144866897,
          0.19937388243420728,
          0.1973389219320406,
          0.19531439994216906,
          0.19330031646459264,
          0.19129667149931137,
          0.18930346504632523,
          0.1873206971056342,
          0.18534836767723842,
          0.18338647676113765,
          0.18143502435733203,
          0.17949401046582153,
          0.1775634350866062,
          0.17564329821968594,
          0.17373359986506084,
          0.17183434002273099,
          0.16994551869269614,
          0.16806713587495645,
          0.16619919156951188,
          0.16434168577636243,
          0.16249461849550811,
          0.16065798972694895,
          0.158831799470685,
          0.15701604772671607,
          0.1552107344950423,
          0.15341585977566363,
          0.15163142356858011,
          0.14985742587379172,
          0.14809386669129856,
          0.14634074602110042,
          0.14459806386319743,
          0.14286582021758956,
          0.14114401508427685,
          0.13943264846325923,
          0.13773172035453676,
          0.1360412307581095,
          0.13436117967397732,
          0.13269156710214022,
          0.13103239304259828,
          0.1293836574953515,
          0.1277453604603999,
          0.1261175019377434,
          0.12450008192738199,
          0.12289310042931571,
          0.12129655744354455,
          0.11971045297006853,
          0.11813478700888763,
          0.11656955956000188,
          0.11501477062341132,
          0.11347042019911582,
          0.11193650828711546,
          0.11041303488741022,
          0.10890000000000005
         ]
        },
        {
         "mode": "lines",
         "name": "b=0.75",
         "type": "scatter",
         "x": {
          "bdata": "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",
          "dtype": "f8"
         },
         "y": [
          0.6723999999999999,
          0.6686585258693739,
          0.664927490251043,
          0.6612068931450072,
          0.6574967345512669,
          0.6537970144698214,
          0.650107732900671,
          0.6464288898438157,
          0.6427604852992557,
          0.6391025192669907,
          0.6354549917470209,
          0.6318179027393463,
          0.6281912522439669,
          0.6245750402608824,
          0.6209692667900932,
          0.617373931831599,
          0.6137890353854001,
          0.6102145774514961,
          0.6066505580298873,
          0.6030969771205738,
          0.5995538347235552,
          0.596021130838832,
          0.5924988654664037,
          0.5889870386062707,
          0.5854856502584327,
          0.5819947004228898,
          0.578514189099642,
          0.5750441162886895,
          0.5715844819900322,
          0.5681352862036698,
          0.5646965289296026,
          0.5612682101678306,
          0.5578503299183536,
          0.5544428881811718,
          0.5510458849562851,
          0.5476593202436938,
          0.5442831940433974,
          0.5409175063553961,
          0.5375622571796901,
          0.5342174465162789,
          0.5308830743651632,
          0.5275591407263425,
          0.5242456455998168,
          0.5209425889855863,
          0.517649970883651,
          0.5143677912940109,
          0.5110960502166657,
          0.5078347476516158,
          0.504583883598861,
          0.5013434580584013,
          0.49811347103023673,
          0.4948939225143673,
          0.49168481251079316,
          0.4884861410195138,
          0.48529790804052997,
          0.48212011357384105,
          0.4789527576194472,
          0.4757958401773486,
          0.4726493612475451,
          0.46951332083003683,
          0.46638771892482345,
          0.46327255553190544,
          0.4601678306512825,
          0.4570735442829546,
          0.4539896964269219,
          0.45091628708318426,
          0.44785331625174196,
          0.4448007839325945,
          0.4417586901257424,
          0.43872703483118536,
          0.4357058180489234,
          0.43269503977895674,
          0.42969470002128507,
          0.4267047987759085,
          0.4237253360428271,
          0.4207563118220408,
          0.4177977261135498,
          0.41484957891735363,
          0.4119118702334529,
          0.4089846000618471,
          0.4060677684025365,
          0.403161375255521,
          0.4002654206208006,
          0.3973799044983755,
          0.39450482688824545,
          0.3916401877904105,
          0.3887859872048708,
          0.3859422251316259,
          0.3831089015706765,
          0.38028601652202204,
          0.3774735699856627,
          0.37467156196159856,
          0.3718799924498295,
          0.3690988614503557,
          0.36632816896317677,
          0.3635679149882933,
          0.36081809952570476,
          0.35807872257541135,
          0.3553497841374131,
          0.35263128421170997,
          0.34992322279830207,
          0.3472255998971891,
          0.3445384155083715,
          0.3418616696318489,
          0.33919536226762137,
          0.33653949341568906,
          0.33389406307605185,
          0.3312590712487099,
          0.32863451793366283,
          0.32602040313091113,
          0.3234167268404544,
          0.3208234890622929,
          0.31824068979642645,
          0.3156683290428552,
          0.31310640680157914,
          0.31055492307259797,
          0.3080138778559122,
          0.30548327115152146,
          0.3029631029594258,
          0.3004533732796253,
          0.29795408211211993,
          0.29546522945690984,
          0.29298681531399473,
          0.2905188396833747,
          0.28806130256505,
          0.2856142039590202,
          0.2831775438652857,
          0.28075132228384625,
          0.27833553921470194,
          0.27593019465785273,
          0.27353528861329873,
          0.2711508210810399,
          0.26877679206107596,
          0.2664132015534074,
          0.2640600495580339,
          0.2617173360749555,
          0.25938506110417225,
          0.2570632246456841,
          0.2547518266994912,
          0.25245086726559324,
          0.2501603463439906,
          0.2478802639346831,
          0.2456106200376705,
          0.24335141465295326,
          0.24110264778053106,
          0.23886431942040395,
          0.236636429572572,
          0.2344189782370352,
          0.2322119654137936,
          0.23001539110284694,
          0.22782925530419562,
          0.22565355801783932,
          0.22348829924377817,
          0.2213334789820121,
          0.2191890972325412,
          0.21705515399536554,
          0.2149316492704848,
          0.2128185830578994,
          0.21071595535760904,
          0.20862376616961378,
          0.20654201549391366,
          0.20447070333050868,
          0.20240982967939894,
          0.2003593945405841,
          0.19831939791406464,
          0.19628983979984016,
          0.19427072019791083,
          0.19226203910827674,
          0.1902637965309377,
          0.18827599246589374,
          0.18629862691314494,
          0.1843316998726913,
          0.18237521134453274,
          0.18042916132866935,
          0.17849354982510116,
          0.17656837683382803,
          0.17465364235485,
          0.17274934638816714,
          0.1708554889337794,
          0.16897206999168676,
          0.1670990895618893,
          0.16523654764438703,
          0.1633844442391798,
          0.1615427793462677,
          0.15971155296565073,
          0.1578907650973289,
          0.15608041574130221,
          0.15428050489757064,
          0.1524910325661343,
          0.150711998746993,
          0.14894340344014684,
          0.1471852466455958,
          0.14543752836333998,
          0.14370024859337918,
          0.14197340733571354,
          0.14025700459034304,
          0.13855104035726765,
          0.1368555146364874,
          0.13517042742800237,
          0.13349577873181237,
          0.13183156854791753,
          0.13017779687631778,
          0.1285344637170132,
          0.12690156907000374,
          0.1252791129352894,
          0.12366709531287028,
          0.12206551620274621,
          0.12047437560491728,
          0.11889367351938347,
          0.11732340994614479,
          0.11576358488520125,
          0.11421419833655284,
          0.11267525030019963,
          0.11114674077614149,
          0.10962866976437848,
          0.10812103726491058,
          0.10662384327773783,
          0.10513708780286021,
          0.10366077084027779,
          0.10219489238999042,
          0.1007394524519982,
          0.0992944510263011,
          0.09785988811289921,
          0.09643576371179237,
          0.09502207782298067,
          0.0936188304464641,
          0.09222602158224266,
          0.09084365123031635,
          0.08947171939068517,
          0.0881102260633492,
          0.08675917124830829,
          0.0854185549455625,
          0.08408837715511185,
          0.08276863787695633,
          0.08145933711109594,
          0.08016047485753068,
          0.07887205111626062,
          0.07759406588728562,
          0.07632651917060576,
          0.07506941096622104,
          0.07382274127413144,
          0.07258651009433696,
          0.07136071742683762,
          0.07014536327163348,
          0.06894044762872441,
          0.06774597049811046,
          0.0665619318797917,
          0.06538833177376803,
          0.06422517018003948,
          0.06307244709860606,
          0.06193016252946778,
          0.060798316472624625,
          0.0596769089280766,
          0.05856593989582376,
          0.057465409375866,
          0.05637531736820337,
          0.055295663872835875,
          0.05422644888976351,
          0.053167672418986275,
          0.05211933446050417,
          0.05108143501431725,
          0.05005397408042541,
          0.0490369516588287,
          0.048030367749527125,
          0.04703422235252068,
          0.046048515467809366,
          0.04507324709539318,
          0.04410841723527218,
          0.04315402588744626,
          0.04221007305191547,
          0.041276558728679816,
          0.04035348291773929,
          0.039440845619093896,
          0.038538646832743634,
          0.037646886558688544,
          0.036765564796928545,
          0.035894681547463676,
          0.03503423681029394,
          0.034184230585419334,
          0.03334466287283986,
          0.03251553367255552,
          0.03169684298456635,
          0.030888590808872303,
          0.030090777145473355,
          0.029303401994369538,
          0.028526465355560852,
          0.027759967229047295,
          0.02700390761482891,
          0.02625828651290562,
          0.025523103923277456,
          0.024798359845944428,
          0.02408405428090653,
          0.023380187228163766,
          0.022686758687716132,
          0.02200376865956366,
          0.02133121714370629,
          0.02066910414014405,
          0.020017429648876938,
          0.01937619366990496,
          0.018745396203228116,
          0.018125037248846402,
          0.017515116806759847,
          0.016915634876968396,
          0.016326591459472076,
          0.015747986554270888,
          0.01517982016136483,
          0.014622092280753904,
          0.01407480291243811,
          0.013537952056417472,
          0.013011539712691941,
          0.012495565881261541,
          0.011990030562126271,
          0.011494933755286135,
          0.01101027546074113,
          0.010536055678491254,
          0.010072274408536534,
          0.009618931650876923,
          0.009176027405512441,
          0.008743561672443093,
          0.008321534451668876,
          0.00790994574318979,
          0.007508795547005836,
          0.007118083863117032,
          0.00673781069152334,
          0.006367976032224779,
          0.006008579885221351,
          0.0056596222505130534,
          0.005321103128099888,
          0.004993022517981854,
          0.0046753804201589665,
          0.00436817683463118,
          0.004071411761398554,
          0.003785085200461046,
          0.0035091971518186817,
          0.0032437476154714355,
          0.0029887365914193333,
          0.002744164079662338,
          0.002510030080200497,
          0.0022863345930337767,
          0.0020730776181621877,
          0.0018702591555857298,
          0.0016778792053044036,
          0.0014959377673182178,
          0.001324434841627146,
          0.001163370428231222,
          0.0010127445271304214,
          0.0008725571383247523,
          0.0007428082618142147,
          0.0006234978975988086,
          0.0005146260456785391,
          0.000416192706053391,
          0.00032819787872338346,
          0.0002506415636885029,
          0.00018352376094875388,
          0.00012684447050413634,
          0.0000806036923546503,
          0.00004480142650029726,
          0.00001943767294107276,
          0.000004512431676981726,
          2.5702708021255827e-8,
          0.000005977486034192222,
          0.000022367781655493683,
          0.00004919658957192875,
          0.00008646390978349221,
          0.00013416974229019132,
          0.00019231408709201677,
          0.0002608969441889727,
          0.00033991831358106734,
          0.00042937819526829454,
          0.000529276589250644,
          0.000639613495528124,
          0.0007603889141007467,
          0.0008916028449684886,
          0.0010332552881313754,
          0.0011853462435893792,
          0.0013478757113425137,
          0.001520843691390796,
          0.0017042501837341924,
          0.0018980951883727387,
          0.0021023787053063973,
          0.002317100734535186,
          0.002542261276059128,
          0.0027778603298782025,
          0.0030238978959923847,
          0.003280373974401698,
          0.003547288565106141,
          0.003824641668105715,
          0.004112433283400448,
          0.004410663410990313,
          0.004719332050875281,
          0.0050384392030553785,
          0.0053679848675306395,
          0.005707969044301,
          0.006058391733366524,
          0.006419252934727147,
          0.0067905526483828995,
          0.007172290874333819,
          0.007564467612579834,
          0.00796708286312102,
          0.008380136625957295,
          0.008803628901088703,
          0.009237559688515282,
          0.009681928988236995,
          0.010136736800253796,
          0.010601983124565726,
          0.011077667961172833,
          0.011563791310075027,
          0.0120603531712724,
          0.012567353544764855,
          0.01308479243055244,
          0.013612669828635208,
          0.014150985739013055,
          0.014699740161686087,
          0.015258933096654196,
          0.015828564543917435,
          0.016408634503475863,
          0.016999142975329423,
          0.017600089959478055,
          0.01821147545592182,
          0.018833299464660776,
          0.019465561985694803,
          0.02010826301902402,
          0.02076140256464831,
          0.021424980622567726,
          0.02209899719278234,
          0.022783452275292024,
          0.023478345870096902,
          0.024183677977196845,
          0.024899448596591916,
          0.02562565772828219,
          0.026362305372267598,
          0.027109391528548066,
          0.027866916197123663,
          0.028634879377994464,
          0.029413281071160324,
          0.03020212127662139,
          0.03100139999437751,
          0.03181111722442876,
          0.03263127296677514,
          0.03346186722141674,
          0.03430289998835338,
          0.03515437126758524,
          0.03601628105911214,
          0.03688862936293418,
          0.037771416179051436,
          0.03866464150746373,
          0.039568305348171254,
          0.04048240770117381,
          0.0414069485664715,
          0.04234192794406441,
          0.04328734583395246,
          0.044243202236135544,
          0.04520949715061376,
          0.0461862305773872,
          0.04717340251645568,
          0.04817101296781938,
          0.04917906193147812,
          0.05019754940743199,
          0.05122647539568109,
          0.05226583989622522,
          0.053315642909064584,
          0.05437588443419898,
          0.055446564471628504,
          0.05652768302135326,
          0.05761924008337316,
          0.058721235657688074,
          0.05983366974429812,
          0.06095654234320341,
          0.062089853454403716,
          0.06323360307789927,
          0.06438779121368984,
          0.06555241786177554,
          0.06672748302215649,
          0.06791298669483257,
          0.06910892887980367,
          0.0703153095770699,
          0.07153212878663125,
          0.07275938650848786,
          0.0739970827426396,
          0.07524521748908634,
          0.07650379074782823,
          0.07777280251886537,
          0.0790522528021975,
          0.0803421415978249,
          0.0816424689057473,
          0.08295323472596484,
          0.08427443905847765,
          0.08560608190328545,
          0.08694816326038837,
          0.08830068312978656,
          0.08966364151147975,
          0.09103703840546806,
          0.09242087381175165,
          0.09381514773033037,
          0.09521986016120408,
          0.09663501110437293,
          0.09806060055983691,
          0.09949662852759615,
          0.10094309500765053,
          0.1023999999999999
         ]
        },
        {
         "mode": "lines",
         "name": "b=1.5",
         "type": "scatter",
         "x": {
          "bdata": "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",
          "dtype": "f8"
         },
         "y": [
          0.004899999999999993,
          0.0045853795767888395,
          0.0042811976658728166,
          0.003987454267251926,
          0.00370414938092618,
          0.0034312830068955517,
          0.0031688551451600545,
          0.002916865795719689,
          0.0026753149585744553,
          0.002444202633724353,
          0.002223528821169382,
          0.0020132935209095527,
          0.001813496732944844,
          0.0016241384572752674,
          0.0014452186939008303,
          0.001276737442821516,
          0.0011186947040373331,
          0.0009710904775482818,
          0.0008339247633543619,
          0.0007071975614555736,
          0.0005909088718519167,
          0.00048505869454339634,
          0.000389647029530002,
          0.0003046738768117392,
          0.00023013923638860788,
          0.0001660431082606081,
          0.00011238549242773981,
          0.00006916638889000303,
          0.00003638579764739909,
          0.00001404371869992482,
          0.000002140152047582055,
          6.750976903706151e-7,
          0.000009648555628291049,
          0.000029060525861344,
          0.00005891100838952607,
          0.00009920000321283863,
          0.00014992751033128169,
          0.0002110935297448617,
          0.00028269806145356675,
          0.0003647411054574108,
          0.00045722266175637785,
          0.0005601427303504754,
          0.000673501311239715,
          0.0007972984044240871,
          0.0009315340099035781,
          0.0010762081276781995,
          0.0012313207577479672,
          0.0013968719001128508,
          0.0015728615547728824,
          0.001759289721728028,
          0.001956156400978304,
          0.0021634615925237312,
          0.0023812052963642695,
          0.0026093875124999608,
          0.0028480082409307605,
          0.0030970674816566913,
          0.003356565234677778,
          0.003626501499993997,
          0.003906876277605322,
          0.0041976895675117755,
          0.00449894136971339,
          0.004810631684210107,
          0.005132760511001986,
          0.005465327850088964,
          0.005808333701471074,
          0.006161778065148348,
          0.006525660941120719,
          0.006899982329388258,
          0.00728474222995089,
          0.007679940642808654,
          0.008085577567961588,
          0.008501653005409613,
          0.008928166955152812,
          0.0093651194171911,
          0.009812510391524518,
          0.01027033987815311,
          0.01073860787707679,
          0.011217314388295648,
          0.01170645941180959,
          0.012206042947618663,
          0.012716064995722916,
          0.013236525556122302,
          0.013767424628816768,
          0.014308762213806364,
          0.014860538311091092,
          0.015422752920671004,
          0.01599540604254599,
          0.01657849767671617,
          0.017172027823181422,
          0.0177759964819418,
          0.018390403652997375,
          0.01901524933634808,
          0.019650533531993853,
          0.020296256239934758,
          0.02095241746017086,
          0.02161901719270203,
          0.02229605543752839,
          0.02298353219464982,
          0.02368144746406638,
          0.02438980124577814,
          0.025108593539784962,
          0.025837824346086988,
          0.026577493664684072,
          0.027327601495576285,
          0.028088147838763705,
          0.028859132694246257,
          0.029640556062023864,
          0.030432417942096602,
          0.03123471833446455,
          0.03204745723912755,
          0.032870634656085765,
          0.033704250585339025,
          0.03454830502688742,
          0.035402797980731024,
          0.03626772944686968,
          0.03714309942530355,
          0.038028907916032466,
          0.038925154919056515,
          0.039831840434375786,
          0.04074896446199018,
          0.041676527001899624,
          0.04261452805410419,
          0.0435629676186039,
          0.04452184569539882,
          0.04549116228448879,
          0.04647091738587398,
          0.047461110999554204,
          0.04846174312552956,
          0.049472813763800146,
          0.05049432291436586,
          0.05152627057722661,
          0.052568656752382495,
          0.053621481439833606,
          0.05468474463957975,
          0.05575844635162113,
          0.05684258657595753,
          0.057937165312589065,
          0.05904218256151584,
          0.060157638322737635,
          0.06128353259625467,
          0.06241986538206674,
          0.06356663668017393,
          0.06472384649057636,
          0.0658914948132738,
          0.0670695816482665,
          0.06825810699555422,
          0.06945707085513707,
          0.07066647322701515,
          0.07188631411118826,
          0.07311659350765662,
          0.07435731141641999,
          0.07560846783747861,
          0.07687006277083223,
          0.07814209621648112,
          0.07942456817442502,
          0.08071747864466404,
          0.08202082762719831,
          0.0833346151220276,
          0.08465884112915215,
          0.0859935056485717,
          0.08733860868028637,
          0.0886941502242963,
          0.09006013028060125,
          0.09143654884920145,
          0.09282340593009665,
          0.09422070152328711,
          0.09562843562877259,
          0.09704660824655317,
          0.09847521937662904,
          0.0999142690189999,
          0.10136375717366589,
          0.10282368384062714,
          0.10429404901988339,
          0.10577485271143491,
          0.10726609491528143,
          0.1087677756314232,
          0.11027989485985998,
          0.11180245260059203,
          0.11333544885361907,
          0.11487888361894123,
          0.11643275689655867,
          0.1179970686864711,
          0.11957181898867882,
          0.1211570078031815,
          0.12275263512997932,
          0.12435870096907242,
          0.1259752053204605,
          0.12760214818414387,
          0.12923952956012222,
          0.13088734944839586,
          0.13254560784896446,
          0.13421430476182836,
          0.13589344018698724,
          0.1375830141244412,
          0.13928302657419034,
          0.14099347753623478,
          0.14271436701057416,
          0.14444569499720886,
          0.1461874614961385,
          0.14793966650736345,
          0.14970231003088338,
          0.15147539206669858,
          0.15325891261480876,
          0.15505287167521406,
          0.15685726924791468,
          0.15867210533291026,
          0.16049737993020113,
          0.16233309303978696,
          0.16417924466166792,
          0.1660358347958442,
          0.16790286344231542,
          0.16978033060108194,
          0.17166823627214345,
          0.17356658045550025,
          0.17547536315115198,
          0.17739458435909905,
          0.17932424407934106,
          0.18126434231187818,
          0.18321487905671047,
          0.18517585431383807,
          0.1871472680832606,
          0.18912912036497845,
          0.19112141115899123,
          0.19312414046529935,
          0.1951373082839024,
          0.1971609146148008,
          0.19919495945799412,
          0.20123944281348258,
          0.20329436468126635,
          0.20535972506134506,
          0.2074355239537191,
          0.20952176135838807,
          0.21161843727535218,
          0.2137255517046116,
          0.215843104646166,
          0.2179710961000157,
          0.2201095260661603,
          0.22225839454460028,
          0.22441770153533516,
          0.2265874470383654,
          0.22876763105369055,
          0.23095825358131084,
          0.23315931462122647,
          0.235370814173437,
          0.23759275223794268,
          0.2398251288147437,
          0.24206794390383962,
          0.2443211975052309,
          0.2465848896189171,
          0.24885902024489867,
          0.2511435893831751,
          0.2534385970337467,
          0.25574404319661365,
          0.2580599278717755,
          0.26038625105923274,
          0.26272301275898485,
          0.2650702129710323,
          0.2674278516953747,
          0.2697959289320122,
          0.27217444468094504,
          0.27456339894217285,
          0.276962791715696,
          0.279372623001514,
          0.2817928927996274,
          0.2842236011100357,
          0.2866647479327391,
          0.2891163332677379,
          0.2915783571150316,
          0.29405081947462064,
          0.2965337203465046,
          0.29902705973068366,
          0.3015308376271581,
          0.30404505403592746,
          0.30656970895699215,
          0.30910480239035176,
          0.31165033433600675,
          0.3142063047939566,
          0.31677271376420185,
          0.31934956124674196,
          0.32193684724157723,
          0.32453457174870787,
          0.3271427347681334,
          0.32976133629985405,
          0.3323903763438701,
          0.335029854900181,
          0.33767977196878707,
          0.34034012754968845,
          0.34301092164288477,
          0.34569215424837646,
          0.348383825366163,
          0.35108593499624474,
          0.35379848313862183,
          0.3565214697932938,
          0.35925489496026114,
          0.36199875863952335,
          0.364753060831081,
          0.36751780153493346,
          0.37029298075108136,
          0.37307859847952407,
          0.37587465472026194,
          0.37868114947329523,
          0.38149808273862335,
          0.3843254545162469,
          0.3871632648061653,
          0.3900115136083791,
          0.39287020092288777,
          0.3957393267496916,
          0.3986188910887908,
          0.4015088939401848,
          0.4044093353038743,
          0.4073202151798586,
          0.41024153356813836,
          0.41317329046871293,
          0.4161154858815826,
          0.41906811980674774,
          0.4220311922442077,
          0.4250047031939631,
          0.4279886526560133,
          0.4309830406303587,
          0.4339878671169995,
          0.4370031321159351,
          0.44002883562716616,
          0.443064977650692,
          0.4461115581865134,
          0.4491685772346295,
          0.4522360347950411,
          0.45531393086774746,
          0.45840226545274904,
          0.461501038550046,
          0.4646102501596378,
          0.46772990028152506,
          0.47085998891570713,
          0.4740005160621843,
          0.4771514817209566,
          0.48031288589202437,
          0.483484728575387,
          0.486667009771045,
          0.48985972947899786,
          0.49306288769924583,
          0.49627648443178923,
          0.4995005196766275,
          0.5027349934337612,
          0.5059799057031897,
          0.5092352564849136,
          0.5125010457789324,
          0.5157772735852466,
          0.5190639399038557,
          0.5223610447347599,
          0.5256685880779595,
          0.5289865699334538,
          0.5323149903012437,
          0.5356538491813284,
          0.5390031465737082,
          0.5423628824783835,
          0.5457330568953536,
          0.5491136698246191,
          0.5525047212661794,
          0.5559062112200353,
          0.5593181396861858,
          0.5627405066646319,
          0.5661733121553727,
          0.5696165561584088,
          0.5730702386737402,
          0.5765343597013665,
          0.5800089192412882,
          0.5834939172935046,
          0.5869893538580163,
          0.5904952289348234,
          0.5940115425239257,
          0.5975382946253227,
          0.6010754852390149,
          0.6046231143650026,
          0.608181182003285,
          0.6117496881538629,
          0.6153286328167356,
          0.6189180159919034,
          0.6225178376793667,
          0.6261280978791248,
          0.6297487965911783,
          0.6333799338155267,
          0.6370215095521702,
          0.6406735238011092,
          0.6443359765623433,
          0.6480088678358721,
          0.6516921976216962,
          0.6553859659198152,
          0.6590901727302295,
          0.6628048180529393,
          0.6665299018879441,
          0.6702654242352438,
          0.6740113850948386,
          0.6777677844667289,
          0.681534622350914,
          0.6853118987473945,
          0.6890996136561698,
          0.6928977670772403,
          0.6967063590106062,
          0.7005253894562669,
          0.7043548584142231,
          0.708194765884474,
          0.7120451118670201,
          0.7159058963618617,
          0.7197771193689985,
          0.72365878088843,
          0.7275508809201566,
          0.7314534194641787,
          0.7353663965204956,
          0.739289812089108,
          0.7432236661700152,
          0.7471679587632175,
          0.7511226898687152,
          0.7550878594865078,
          0.7590634676165958,
          0.7630495142589786,
          0.7670459994136566,
          0.77105292308063,
          0.7750702852598986,
          0.7790980859514619,
          0.7831363251553204,
          0.7871850028714743,
          0.7912441190999231,
          0.7953136738406673,
          0.7993936670937063,
          0.8034840988590404,
          0.80758496913667,
          0.8116962779265944,
          0.8158180252288143,
          0.819950211043329,
          0.8240928353701387,
          0.828245898209244,
          0.8324093995606444,
          0.8365833394243396,
          0.8407677178003299,
          0.8449625346886157,
          0.8491677900891963,
          0.8533834840020723,
          0.8576096164272432,
          0.8618461873647091,
          0.8660931968144702,
          0.8703506447765268,
          0.8746185312508781,
          0.878896856237525,
          0.8831856197364666,
          0.8874848217477033,
          0.8917944622712356,
          0.8961145413070626,
          0.9004450588551851,
          0.9047860149156024,
          0.9091374094883148,
          0.9134992425733227,
          0.9178715141706257,
          0.9222542242802235,
          0.9266473729021164,
          0.9310509600363049,
          0.935464985682788,
          0.9398894498415667,
          0.9443243525126402,
          0.9487696936960088,
          0.9532254733916729,
          0.9576916915996317,
          0.9621683483198861,
          0.9666554435524352,
          0.9711529772972795,
          0.9756609495544192,
          0.9801793603238541,
          0.9847082096055837,
          0.9892474973996085,
          0.9937972237059287,
          0.9983573885245438,
          1.0029279918554543,
          1.0075090336986596,
          1.01210051405416,
          1.0167024329219565,
          1.021314790302047,
          1.0259375861944329,
          1.0305708205991138,
          1.0352144935160899,
          1.039868604945361,
          1.044533154886928,
          1.0492081433407896,
          1.0538935703069463,
          1.0585894357853989,
          1.0632957397761458,
          1.0680124822791877,
          1.0727396632945247,
          1.077477282822157,
          1.0822253408620843,
          1.0869838374143068,
          1.0917527724788245,
          1.096532146055638,
          1.101321958144746,
          1.106122208746149,
          1.110932897859848,
          1.1157540254858413,
          1.1205855916241296,
          1.1254275962747133,
          1.130280039437592,
          1.1351429211127657,
          1.1400162413002355,
          1.1448999999999996
         ]
        }
       ],
       "layout": {
        "template": {
         "data": {
          "bar": [
           {
            "error_x": {
             "color": "#2a3f5f"
            },
            "error_y": {
             "color": "#2a3f5f"
            },
            "marker": {
             "line": {
              "color": "#E5ECF6",
              "width": 0.5
             },
             "pattern": {
              "fillmode": "overlay",
              "size": 10,
              "solidity": 0.2
             }
            },
            "type": "bar"
           }
          ],
          "barpolar": [
           {
            "marker": {
             "line": {
              "color": "#E5ECF6",
              "width": 0.5
             },
             "pattern": {
              "fillmode": "overlay",
              "size": 10,
              "solidity": 0.2
             }
            },
            "type": "barpolar"
           }
          ],
          "carpet": [
           {
            "aaxis": {
             "endlinecolor": "#2a3f5f",
             "gridcolor": "white",
             "linecolor": "white",
             "minorgridcolor": "white",
             "startlinecolor": "#2a3f5f"
            },
            "baxis": {
             "endlinecolor": "#2a3f5f",
             "gridcolor": "white",
             "linecolor": "white",
             "minorgridcolor": "white",
             "startlinecolor": "#2a3f5f"
            },
            "type": "carpet"
           }
          ],
          "choropleth": [
           {
            "colorbar": {
             "outlinewidth": 0,
             "ticks": ""
            },
            "type": "choropleth"
           }
          ],
          "contour": [
           {
            "colorbar": {
             "outlinewidth": 0,
             "ticks": ""
            },
            "colorscale": [
             [
              0,
              "#0d0887"
             ],
             [
              0.1111111111111111,
              "#46039f"
             ],
             [
              0.2222222222222222,
              "#7201a8"
             ],
             [
              0.3333333333333333,
              "#9c179e"
             ],
             [
              0.4444444444444444,
              "#bd3786"
             ],
             [
              0.5555555555555556,
              "#d8576b"
             ],
             [
              0.6666666666666666,
              "#ed7953"
             ],
             [
              0.7777777777777778,
              "#fb9f3a"
             ],
             [
              0.8888888888888888,
              "#fdca26"
             ],
             [
              1,
              "#f0f921"
             ]
            ],
            "type": "contour"
           }
          ],
          "contourcarpet": [
           {
            "colorbar": {
             "outlinewidth": 0,
             "ticks": ""
            },
            "type": "contourcarpet"
           }
          ],
          "heatmap": [
           {
            "colorbar": {
             "outlinewidth": 0,
             "ticks": ""
            },
            "colorscale": [
             [
              0,
              "#0d0887"
             ],
             [
              0.1111111111111111,
              "#46039f"
             ],
             [
              0.2222222222222222,
              "#7201a8"
             ],
             [
              0.3333333333333333,
              "#9c179e"
             ],
             [
              0.4444444444444444,
              "#bd3786"
             ],
             [
              0.5555555555555556,
              "#d8576b"
             ],
             [
              0.6666666666666666,
              "#ed7953"
             ],
             [
              0.7777777777777778,
              "#fb9f3a"
             ],
             [
              0.8888888888888888,
              "#fdca26"
             ],
             [
              1,
              "#f0f921"
             ]
            ],
            "type": "heatmap"
           }
          ],
          "histogram": [
           {
            "marker": {
             "pattern": {
              "fillmode": "overlay",
              "size": 10,
              "solidity": 0.2
             }
            },
            "type": "histogram"
           }
          ],
          "histogram2d": [
           {
            "colorbar": {
             "outlinewidth": 0,
             "ticks": ""
            },
            "colorscale": [
             [
              0,
              "#0d0887"
             ],
             [
              0.1111111111111111,
              "#46039f"
             ],
             [
              0.2222222222222222,
              "#7201a8"
             ],
             [
              0.3333333333333333,
              "#9c179e"
             ],
             [
              0.4444444444444444,
              "#bd3786"
             ],
             [
              0.5555555555555556,
              "#d8576b"
             ],
             [
              0.6666666666666666,
              "#ed7953"
             ],
             [
              0.7777777777777778,
              "#fb9f3a"
             ],
             [
              0.8888888888888888,
              "#fdca26"
             ],
             [
              1,
              "#f0f921"
             ]
            ],
            "type": "histogram2d"
           }
          ],
          "histogram2dcontour": [
           {
            "colorbar": {
             "outlinewidth": 0,
             "ticks": ""
            },
            "colorscale": [
             [
              0,
              "#0d0887"
             ],
             [
              0.1111111111111111,
              "#46039f"
             ],
             [
              0.2222222222222222,
              "#7201a8"
             ],
             [
              0.3333333333333333,
              "#9c179e"
             ],
             [
              0.4444444444444444,
              "#bd3786"
             ],
             [
              0.5555555555555556,
              "#d8576b"
             ],
             [
              0.6666666666666666,
              "#ed7953"
             ],
             [
              0.7777777777777778,
              "#fb9f3a"
             ],
             [
              0.8888888888888888,
              "#fdca26"
             ],
             [
              1,
              "#f0f921"
             ]
            ],
            "type": "histogram2dcontour"
           }
          ],
          "mesh3d": [
           {
            "colorbar": {
             "outlinewidth": 0,
             "ticks": ""
            },
            "type": "mesh3d"
           }
          ],
          "parcoords": [
           {
            "line": {
             "colorbar": {
              "outlinewidth": 0,
              "ticks": ""
             }
            },
            "type": "parcoords"
           }
          ],
          "pie": [
           {
            "automargin": true,
            "type": "pie"
           }
          ],
          "scatter": [
           {
            "fillpattern": {
             "fillmode": "overlay",
             "size": 10,
             "solidity": 0.2
            },
            "type": "scatter"
           }
          ],
          "scatter3d": [
           {
            "line": {
             "colorbar": {
              "outlinewidth": 0,
              "ticks": ""
             }
            },
            "marker": {
             "colorbar": {
              "outlinewidth": 0,
              "ticks": ""
             }
            },
            "type": "scatter3d"
           }
          ],
          "scattercarpet": [
           {
            "marker": {
             "colorbar": {
              "outlinewidth": 0,
              "ticks": ""
             }
            },
            "type": "scattercarpet"
           }
          ],
          "scattergeo": [
           {
            "marker": {
             "colorbar": {
              "outlinewidth": 0,
              "ticks": ""
             }
            },
            "type": "scattergeo"
           }
          ],
          "scattergl": [
           {
            "marker": {
             "colorbar": {
              "outlinewidth": 0,
              "ticks": ""
             }
            },
            "type": "scattergl"
           }
          ],
          "scattermap": [
           {
            "marker": {
             "colorbar": {
              "outlinewidth": 0,
              "ticks": ""
             }
            },
            "type": "scattermap"
           }
          ],
          "scattermapbox": [
           {
            "marker": {
             "colorbar": {
              "outlinewidth": 0,
              "ticks": ""
             }
            },
            "type": "scattermapbox"
           }
          ],
          "scatterpolar": [
           {
            "marker": {
             "colorbar": {
              "outlinewidth": 0,
              "ticks": ""
             }
            },
            "type": "scatterpolar"
           }
          ],
          "scatterpolargl": [
           {
            "marker": {
             "colorbar": {
              "outlinewidth": 0,
              "ticks": ""
             }
            },
            "type": "scatterpolargl"
           }
          ],
          "scatterternary": [
           {
            "marker": {
             "colorbar": {
              "outlinewidth": 0,
              "ticks": ""
             }
            },
            "type": "scatterternary"
           }
          ],
          "surface": [
           {
            "colorbar": {
             "outlinewidth": 0,
             "ticks": ""
            },
            "colorscale": [
             [
              0,
              "#0d0887"
             ],
             [
              0.1111111111111111,
              "#46039f"
             ],
             [
              0.2222222222222222,
              "#7201a8"
             ],
             [
              0.3333333333333333,
              "#9c179e"
             ],
             [
              0.4444444444444444,
              "#bd3786"
             ],
             [
              0.5555555555555556,
              "#d8576b"
             ],
             [
              0.6666666666666666,
              "#ed7953"
             ],
             [
              0.7777777777777778,
              "#fb9f3a"
             ],
             [
              0.8888888888888888,
              "#fdca26"
             ],
             [
              1,
              "#f0f921"
             ]
            ],
            "type": "surface"
           }
          ],
          "table": [
           {
            "cells": {
             "fill": {
              "color": "#EBF0F8"
             },
             "line": {
              "color": "white"
             }
            },
            "header": {
             "fill": {
              "color": "#C8D4E3"
             },
             "line": {
              "color": "white"
             }
            },
            "type": "table"
           }
          ]
         },
         "layout": {
          "annotationdefaults": {
           "arrowcolor": "#2a3f5f",
           "arrowhead": 0,
           "arrowwidth": 1
          },
          "autotypenumbers": "strict",
          "coloraxis": {
           "colorbar": {
            "outlinewidth": 0,
            "ticks": ""
           }
          },
          "colorscale": {
           "diverging": [
            [
             0,
             "#8e0152"
            ],
            [
             0.1,
             "#c51b7d"
            ],
            [
             0.2,
             "#de77ae"
            ],
            [
             0.3,
             "#f1b6da"
            ],
            [
             0.4,
             "#fde0ef"
            ],
            [
             0.5,
             "#f7f7f7"
            ],
            [
             0.6,
             "#e6f5d0"
            ],
            [
             0.7,
             "#b8e186"
            ],
            [
             0.8,
             "#7fbc41"
            ],
            [
             0.9,
             "#4d9221"
            ],
            [
             1,
             "#276419"
            ]
           ],
           "sequential": [
            [
             0,
             "#0d0887"
            ],
            [
             0.1111111111111111,
             "#46039f"
            ],
            [
             0.2222222222222222,
             "#7201a8"
            ],
            [
             0.3333333333333333,
             "#9c179e"
            ],
            [
             0.4444444444444444,
             "#bd3786"
            ],
            [
             0.5555555555555556,
             "#d8576b"
            ],
            [
             0.6666666666666666,
             "#ed7953"
            ],
            [
             0.7777777777777778,
             "#fb9f3a"
            ],
            [
             0.8888888888888888,
             "#fdca26"
            ],
            [
             1,
             "#f0f921"
            ]
           ],
           "sequentialminus": [
            [
             0,
             "#0d0887"
            ],
            [
             0.1111111111111111,
             "#46039f"
            ],
            [
             0.2222222222222222,
             "#7201a8"
            ],
            [
             0.3333333333333333,
             "#9c179e"
            ],
            [
             0.4444444444444444,
             "#bd3786"
            ],
            [
             0.5555555555555556,
             "#d8576b"
            ],
            [
             0.6666666666666666,
             "#ed7953"
            ],
            [
             0.7777777777777778,
             "#fb9f3a"
            ],
            [
             0.8888888888888888,
             "#fdca26"
            ],
            [
             1,
             "#f0f921"
            ]
           ]
          },
          "colorway": [
           "#636efa",
           "#EF553B",
           "#00cc96",
           "#ab63fa",
           "#FFA15A",
           "#19d3f3",
           "#FF6692",
           "#B6E880",
           "#FF97FF",
           "#FECB52"
          ],
          "font": {
           "color": "#2a3f5f"
          },
          "geo": {
           "bgcolor": "white",
           "lakecolor": "white",
           "landcolor": "#E5ECF6",
           "showlakes": true,
           "showland": true,
           "subunitcolor": "white"
          },
          "hoverlabel": {
           "align": "left"
          },
          "hovermode": "closest",
          "mapbox": {
           "style": "light"
          },
          "paper_bgcolor": "white",
          "plot_bgcolor": "#E5ECF6",
          "polar": {
           "angularaxis": {
            "gridcolor": "white",
            "linecolor": "white",
            "ticks": ""
           },
           "bgcolor": "#E5ECF6",
           "radialaxis": {
            "gridcolor": "white",
            "linecolor": "white",
            "ticks": ""
           }
          },
          "scene": {
           "xaxis": {
            "backgroundcolor": "#E5ECF6",
            "gridcolor": "white",
            "gridwidth": 2,
            "linecolor": "white",
            "showbackground": true,
            "ticks": "",
            "zerolinecolor": "white"
           },
           "yaxis": {
            "backgroundcolor": "#E5ECF6",
            "gridcolor": "white",
            "gridwidth": 2,
            "linecolor": "white",
            "showbackground": true,
            "ticks": "",
            "zerolinecolor": "white"
           },
           "zaxis": {
            "backgroundcolor": "#E5ECF6",
            "gridcolor": "white",
            "gridwidth": 2,
            "linecolor": "white",
            "showbackground": true,
            "ticks": "",
            "zerolinecolor": "white"
           }
          },
          "shapedefaults": {
           "line": {
            "color": "#2a3f5f"
           }
          },
          "ternary": {
           "aaxis": {
            "gridcolor": "white",
            "linecolor": "white",
            "ticks": ""
           },
           "baxis": {
            "gridcolor": "white",
            "linecolor": "white",
            "ticks": ""
           },
           "bgcolor": "#E5ECF6",
           "caxis": {
            "gridcolor": "white",
            "linecolor": "white",
            "ticks": ""
           }
          },
          "title": {
           "x": 0.05
          },
          "xaxis": {
           "automargin": true,
           "gridcolor": "white",
           "linecolor": "white",
           "ticks": "",
           "title": {
            "standoff": 15
           },
           "zerolinecolor": "white",
           "zerolinewidth": 2
          },
          "yaxis": {
           "automargin": true,
           "gridcolor": "white",
           "linecolor": "white",
           "ticks": "",
           "title": {
            "standoff": 15
           },
           "zerolinecolor": "white",
           "zerolinewidth": 2
          }
         }
        },
        "title": {
         "text": "Loss Curves for Different b Values"
        },
        "xaxis": {
         "title": {
          "text": "a"
         }
        },
        "yaxis": {
         "title": {
          "text": "Loss"
         }
        }
       }
      }
     },
     "metadata": {},
     "output_type": "display_data"
    }
   ],
   "source": [
    "# -- CODE for 2c ---\n",
    "\n",
    "values_a = np.linspace(-1, 1, 500)\n",
    "values_b = [0.1, 0.75, 1.5]\n",
    "\n",
    "x = 0.57\n",
    "\n",
    "y = 1\n",
    "\n",
    "fig = go.Figure()\n",
    "for b in values_b:\n",
    "    losses = [(a * x + b - y) ** 2 for a in values_a]\n",
    "    fig.add_trace(go.Scatter(x=values_a, y=losses, mode='lines', name=f'b={b}'))\n",
    "fig.update_layout(title='Loss Curves for Different b Values', xaxis_title='a', yaxis_title='Loss')\n",
    "fig.show()"
   ]
  },
  {
   "cell_type": "markdown",
   "metadata": {},
   "source": [
    "For fixed (b), the L2 loss as a function of (a) is $L(a)=\\sum_{(x_i,y_i)\\in \\mathcal D}(a x_i+b-y_i)^2$.\n",
    "\n",
    "Using this we guessed a value where the curves matched the curves from the task."
   ]
  },
  {
   "cell_type": "markdown",
   "metadata": {},
   "source": [
    "# Task 3\n",
    "Train a  linear regression with a L2 loss on the training data using Gradient Descent. \n",
    "The code below should give a (non-vectorized) on how it is found.  \n",
    "\n",
    "The gradient is found as:  \n",
    "$ L = \\frac{1}{2}(\\hat{y} - y )^2 $  \n",
    "\n",
    "$ \\hat{y} = f_\\theta(x) = \\theta$  \n",
    "\n",
    "\n",
    "$ \\frac{\\partial L}{\\partial\\theta} = \\frac{\\partial L}{\\partial \\hat{y}} \\frac{\\partial \\hat{y}}{\\partial \\theta}$ (using the chain rule).\n",
    "\n",
    "With:  \n",
    "$\\frac{\\partial L}{\\partial \\hat{y}} = (\\hat{y} - y) \\times 1 = (\\hat{y} - y)$  \n",
    "\n",
    "$\\frac{\\partial \\hat{y}}{\\partial \\theta} = 1  $\n",
    "\n",
    "\n",
    "Gives us:  \n",
    "$\\frac{\\partial L}{\\partial\\theta} = (\\hat{y} - y)$\n",
    "\n",
    "\n",
    "### Questions:\n",
    "1) Draw the graph/tree that shows how these partial derivatives are connected. \n",
    "2) Find a set of hyperparameters that converge for $\\theta_{\\text{init}} = 5.5$.  How can we determine if the algorithm has converged?  \n",
    "3) Can you find a learning rate that the algorithm does not converge for?  \n",
    "4) What is the \"best\" learning rate for this particular dataset?  \n",
    "5) You might be asked to show how the gradients flow in another loss/function : be prepared.\n",
    "\n"
   ]
  },
  {
   "cell_type": "code",
   "execution_count": 35,
   "metadata": {},
   "outputs": [
    {
     "name": "stdout",
     "output_type": "stream",
     "text": [
      "Running GD with initial theta: 5.50, learning rate: -1 over 40 datapoints for 15 steps\n",
      "[visit] theta: 5.50 => loss: 22.71\n",
      "[visit] theta: 10.26 => loss: 90.66\n",
      "[visit] theta: 19.78 => loss: 362.46\n",
      "[visit] theta: 38.81 => loss: 1449.66\n",
      "[visit] theta: 76.89 => loss: 5798.46\n",
      "[visit] theta: 153.04 => loss: 23193.63\n",
      "[visit] theta: 305.33 => loss: 92774.33\n",
      "[visit] theta: 609.92 => loss: 371097.13\n",
      "[visit] theta: 1219.10 => loss: 1484388.33\n",
      "[visit] theta: 2437.45 => loss: 5937553.14\n",
      "[visit] theta: 4874.16 => loss: 23750212.36\n",
      "[visit] theta: 9747.58 => loss: 95000849.26\n",
      "[visit] theta: 19494.42 => loss: 380003396.85\n",
      "[visit] theta: 38988.09 => loss: 1520013587.21\n",
      "[visit] theta: 77975.44 => loss: 6080054348.64\n"
     ]
    },
    {
     "data": {
      "application/vnd.plotly.v1+json": {
       "config": {
        "plotlyServerURL": "https://plot.ly"
       },
       "data": [
        {
         "hovertemplate": "x=%{x}<br>y=%{y}<extra></extra>",
         "legendgroup": "",
         "line": {
          "color": "#636efa",
          "dash": "solid"
         },
         "marker": {
          "symbol": "circle"
         },
         "mode": "lines",
         "name": "",
         "orientation": "v",
         "showlegend": false,
         "type": "scatter",
         "x": {
          "bdata": "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",
          "dtype": "f8"
         },
         "xaxis": "x",
         "y": {
          "bdata": "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",
          "dtype": "f8"
         },
         "yaxis": "y"
        },
        {
         "line": {
          "color": "firebrick",
          "dash": "dot",
          "width": 8
         },
         "name": "GD history",
         "type": "scatter",
         "x": {
          "bdata": "5hJHoLWEJEBZnGpwEMczQBJhfNg9aENAb0OFjNQ4U0CetInmHyFjQDTti5NFFXNAgAkNalgPg0Cnl03VYQyTQLre7YrmCqNARAK+5SgKs0AKFCYTygnDQO4c2qmaCdNAYCE09YIJ40CYI+EadwnzQLakty1xCQNB",
          "dtype": "f8"
         },
         "y": {
          "bdata": "fQ7HaIuqVkA4o8gNbqd2QGQICbemppZAsiFZ4XSmtkAGKO1raKbWQJcpkk5lpvZA/Gk7h2SmFkEcumVVZKY2QSFO8EhkplZBI/PSRWSmdkFnnAtFZKaWQbrG2URkprZBUlHNRGSm1kHzM8pEZKb2QaJsyURkphZC",
          "dtype": "f8"
         }
        }
       ],
       "layout": {
        "legend": {
         "tracegroupgap": 0
        },
        "template": {
         "data": {
          "bar": [
           {
            "error_x": {
             "color": "#2a3f5f"
            },
            "error_y": {
             "color": "#2a3f5f"
            },
            "marker": {
             "line": {
              "color": "#E5ECF6",
              "width": 0.5
             },
             "pattern": {
              "fillmode": "overlay",
              "size": 10,
              "solidity": 0.2
             }
            },
            "type": "bar"
           }
          ],
          "barpolar": [
           {
            "marker": {
             "line": {
              "color": "#E5ECF6",
              "width": 0.5
             },
             "pattern": {
              "fillmode": "overlay",
              "size": 10,
              "solidity": 0.2
             }
            },
            "type": "barpolar"
           }
          ],
          "carpet": [
           {
            "aaxis": {
             "endlinecolor": "#2a3f5f",
             "gridcolor": "white",
             "linecolor": "white",
             "minorgridcolor": "white",
             "startlinecolor": "#2a3f5f"
            },
            "baxis": {
             "endlinecolor": "#2a3f5f",
             "gridcolor": "white",
             "linecolor": "white",
             "minorgridcolor": "white",
             "startlinecolor": "#2a3f5f"
            },
            "type": "carpet"
           }
          ],
          "choropleth": [
           {
            "colorbar": {
             "outlinewidth": 0,
             "ticks": ""
            },
            "type": "choropleth"
           }
          ],
          "contour": [
           {
            "colorbar": {
             "outlinewidth": 0,
             "ticks": ""
            },
            "colorscale": [
             [
              0,
              "#0d0887"
             ],
             [
              0.1111111111111111,
              "#46039f"
             ],
             [
              0.2222222222222222,
              "#7201a8"
             ],
             [
              0.3333333333333333,
              "#9c179e"
             ],
             [
              0.4444444444444444,
              "#bd3786"
             ],
             [
              0.5555555555555556,
              "#d8576b"
             ],
             [
              0.6666666666666666,
              "#ed7953"
             ],
             [
              0.7777777777777778,
              "#fb9f3a"
             ],
             [
              0.8888888888888888,
              "#fdca26"
             ],
             [
              1,
              "#f0f921"
             ]
            ],
            "type": "contour"
           }
          ],
          "contourcarpet": [
           {
            "colorbar": {
             "outlinewidth": 0,
             "ticks": ""
            },
            "type": "contourcarpet"
           }
          ],
          "heatmap": [
           {
            "colorbar": {
             "outlinewidth": 0,
             "ticks": ""
            },
            "colorscale": [
             [
              0,
              "#0d0887"
             ],
             [
              0.1111111111111111,
              "#46039f"
             ],
             [
              0.2222222222222222,
              "#7201a8"
             ],
             [
              0.3333333333333333,
              "#9c179e"
             ],
             [
              0.4444444444444444,
              "#bd3786"
             ],
             [
              0.5555555555555556,
              "#d8576b"
             ],
             [
              0.6666666666666666,
              "#ed7953"
             ],
             [
              0.7777777777777778,
              "#fb9f3a"
             ],
             [
              0.8888888888888888,
              "#fdca26"
             ],
             [
              1,
              "#f0f921"
             ]
            ],
            "type": "heatmap"
           }
          ],
          "histogram": [
           {
            "marker": {
             "pattern": {
              "fillmode": "overlay",
              "size": 10,
              "solidity": 0.2
             }
            },
            "type": "histogram"
           }
          ],
          "histogram2d": [
           {
            "colorbar": {
             "outlinewidth": 0,
             "ticks": ""
            },
            "colorscale": [
             [
              0,
              "#0d0887"
             ],
             [
              0.1111111111111111,
              "#46039f"
             ],
             [
              0.2222222222222222,
              "#7201a8"
             ],
             [
              0.3333333333333333,
              "#9c179e"
             ],
             [
              0.4444444444444444,
              "#bd3786"
             ],
             [
              0.5555555555555556,
              "#d8576b"
             ],
             [
              0.6666666666666666,
              "#ed7953"
             ],
             [
              0.7777777777777778,
              "#fb9f3a"
             ],
             [
              0.8888888888888888,
              "#fdca26"
             ],
             [
              1,
              "#f0f921"
             ]
            ],
            "type": "histogram2d"
           }
          ],
          "histogram2dcontour": [
           {
            "colorbar": {
             "outlinewidth": 0,
             "ticks": ""
            },
            "colorscale": [
             [
              0,
              "#0d0887"
             ],
             [
              0.1111111111111111,
              "#46039f"
             ],
             [
              0.2222222222222222,
              "#7201a8"
             ],
             [
              0.3333333333333333,
              "#9c179e"
             ],
             [
              0.4444444444444444,
              "#bd3786"
             ],
             [
              0.5555555555555556,
              "#d8576b"
             ],
             [
              0.6666666666666666,
              "#ed7953"
             ],
             [
              0.7777777777777778,
              "#fb9f3a"
             ],
             [
              0.8888888888888888,
              "#fdca26"
             ],
             [
              1,
              "#f0f921"
             ]
            ],
            "type": "histogram2dcontour"
           }
          ],
          "mesh3d": [
           {
            "colorbar": {
             "outlinewidth": 0,
             "ticks": ""
            },
            "type": "mesh3d"
           }
          ],
          "parcoords": [
           {
            "line": {
             "colorbar": {
              "outlinewidth": 0,
              "ticks": ""
             }
            },
            "type": "parcoords"
           }
          ],
          "pie": [
           {
            "automargin": true,
            "type": "pie"
           }
          ],
          "scatter": [
           {
            "fillpattern": {
             "fillmode": "overlay",
             "size": 10,
             "solidity": 0.2
            },
            "type": "scatter"
           }
          ],
          "scatter3d": [
           {
            "line": {
             "colorbar": {
              "outlinewidth": 0,
              "ticks": ""
             }
            },
            "marker": {
             "colorbar": {
              "outlinewidth": 0,
              "ticks": ""
             }
            },
            "type": "scatter3d"
           }
          ],
          "scattercarpet": [
           {
            "marker": {
             "colorbar": {
              "outlinewidth": 0,
              "ticks": ""
             }
            },
            "type": "scattercarpet"
           }
          ],
          "scattergeo": [
           {
            "marker": {
             "colorbar": {
              "outlinewidth": 0,
              "ticks": ""
             }
            },
            "type": "scattergeo"
           }
          ],
          "scattergl": [
           {
            "marker": {
             "colorbar": {
              "outlinewidth": 0,
              "ticks": ""
             }
            },
            "type": "scattergl"
           }
          ],
          "scattermap": [
           {
            "marker": {
             "colorbar": {
              "outlinewidth": 0,
              "ticks": ""
             }
            },
            "type": "scattermap"
           }
          ],
          "scattermapbox": [
           {
            "marker": {
             "colorbar": {
              "outlinewidth": 0,
              "ticks": ""
             }
            },
            "type": "scattermapbox"
           }
          ],
          "scatterpolar": [
           {
            "marker": {
             "colorbar": {
              "outlinewidth": 0,
              "ticks": ""
             }
            },
            "type": "scatterpolar"
           }
          ],
          "scatterpolargl": [
           {
            "marker": {
             "colorbar": {
              "outlinewidth": 0,
              "ticks": ""
             }
            },
            "type": "scatterpolargl"
           }
          ],
          "scatterternary": [
           {
            "marker": {
             "colorbar": {
              "outlinewidth": 0,
              "ticks": ""
             }
            },
            "type": "scatterternary"
           }
          ],
          "surface": [
           {
            "colorbar": {
             "outlinewidth": 0,
             "ticks": ""
            },
            "colorscale": [
             [
              0,
              "#0d0887"
             ],
             [
              0.1111111111111111,
              "#46039f"
             ],
             [
              0.2222222222222222,
              "#7201a8"
             ],
             [
              0.3333333333333333,
              "#9c179e"
             ],
             [
              0.4444444444444444,
              "#bd3786"
             ],
             [
              0.5555555555555556,
              "#d8576b"
             ],
             [
              0.6666666666666666,
              "#ed7953"
             ],
             [
              0.7777777777777778,
              "#fb9f3a"
             ],
             [
              0.8888888888888888,
              "#fdca26"
             ],
             [
              1,
              "#f0f921"
             ]
            ],
            "type": "surface"
           }
          ],
          "table": [
           {
            "cells": {
             "fill": {
              "color": "#EBF0F8"
             },
             "line": {
              "color": "white"
             }
            },
            "header": {
             "fill": {
              "color": "#C8D4E3"
             },
             "line": {
              "color": "white"
             }
            },
            "type": "table"
           }
          ]
         },
         "layout": {
          "annotationdefaults": {
           "arrowcolor": "#2a3f5f",
           "arrowhead": 0,
           "arrowwidth": 1
          },
          "autotypenumbers": "strict",
          "coloraxis": {
           "colorbar": {
            "outlinewidth": 0,
            "ticks": ""
           }
          },
          "colorscale": {
           "diverging": [
            [
             0,
             "#8e0152"
            ],
            [
             0.1,
             "#c51b7d"
            ],
            [
             0.2,
             "#de77ae"
            ],
            [
             0.3,
             "#f1b6da"
            ],
            [
             0.4,
             "#fde0ef"
            ],
            [
             0.5,
             "#f7f7f7"
            ],
            [
             0.6,
             "#e6f5d0"
            ],
            [
             0.7,
             "#b8e186"
            ],
            [
             0.8,
             "#7fbc41"
            ],
            [
             0.9,
             "#4d9221"
            ],
            [
             1,
             "#276419"
            ]
           ],
           "sequential": [
            [
             0,
             "#0d0887"
            ],
            [
             0.1111111111111111,
             "#46039f"
            ],
            [
             0.2222222222222222,
             "#7201a8"
            ],
            [
             0.3333333333333333,
             "#9c179e"
            ],
            [
             0.4444444444444444,
             "#bd3786"
            ],
            [
             0.5555555555555556,
             "#d8576b"
            ],
            [
             0.6666666666666666,
             "#ed7953"
            ],
            [
             0.7777777777777778,
             "#fb9f3a"
            ],
            [
             0.8888888888888888,
             "#fdca26"
            ],
            [
             1,
             "#f0f921"
            ]
           ],
           "sequentialminus": [
            [
             0,
             "#0d0887"
            ],
            [
             0.1111111111111111,
             "#46039f"
            ],
            [
             0.2222222222222222,
             "#7201a8"
            ],
            [
             0.3333333333333333,
             "#9c179e"
            ],
            [
             0.4444444444444444,
             "#bd3786"
            ],
            [
             0.5555555555555556,
             "#d8576b"
            ],
            [
             0.6666666666666666,
             "#ed7953"
            ],
            [
             0.7777777777777778,
             "#fb9f3a"
            ],
            [
             0.8888888888888888,
             "#fdca26"
            ],
            [
             1,
             "#f0f921"
            ]
           ]
          },
          "colorway": [
           "#636efa",
           "#EF553B",
           "#00cc96",
           "#ab63fa",
           "#FFA15A",
           "#19d3f3",
           "#FF6692",
           "#B6E880",
           "#FF97FF",
           "#FECB52"
          ],
          "font": {
           "color": "#2a3f5f"
          },
          "geo": {
           "bgcolor": "white",
           "lakecolor": "white",
           "landcolor": "#E5ECF6",
           "showlakes": true,
           "showland": true,
           "subunitcolor": "white"
          },
          "hoverlabel": {
           "align": "left"
          },
          "hovermode": "closest",
          "mapbox": {
           "style": "light"
          },
          "paper_bgcolor": "white",
          "plot_bgcolor": "#E5ECF6",
          "polar": {
           "angularaxis": {
            "gridcolor": "white",
            "linecolor": "white",
            "ticks": ""
           },
           "bgcolor": "#E5ECF6",
           "radialaxis": {
            "gridcolor": "white",
            "linecolor": "white",
            "ticks": ""
           }
          },
          "scene": {
           "xaxis": {
            "backgroundcolor": "#E5ECF6",
            "gridcolor": "white",
            "gridwidth": 2,
            "linecolor": "white",
            "showbackground": true,
            "ticks": "",
            "zerolinecolor": "white"
           },
           "yaxis": {
            "backgroundcolor": "#E5ECF6",
            "gridcolor": "white",
            "gridwidth": 2,
            "linecolor": "white",
            "showbackground": true,
            "ticks": "",
            "zerolinecolor": "white"
           },
           "zaxis": {
            "backgroundcolor": "#E5ECF6",
            "gridcolor": "white",
            "gridwidth": 2,
            "linecolor": "white",
            "showbackground": true,
            "ticks": "",
            "zerolinecolor": "white"
           }
          },
          "shapedefaults": {
           "line": {
            "color": "#2a3f5f"
           }
          },
          "ternary": {
           "aaxis": {
            "gridcolor": "white",
            "linecolor": "white",
            "ticks": ""
           },
           "baxis": {
            "gridcolor": "white",
            "linecolor": "white",
            "ticks": ""
           },
           "bgcolor": "#E5ECF6",
           "caxis": {
            "gridcolor": "white",
            "linecolor": "white",
            "ticks": ""
           }
          },
          "title": {
           "x": 0.05
          },
          "xaxis": {
           "automargin": true,
           "gridcolor": "white",
           "linecolor": "white",
           "ticks": "",
           "title": {
            "standoff": 15
           },
           "zerolinecolor": "white",
           "zerolinewidth": 2
          },
          "yaxis": {
           "automargin": true,
           "gridcolor": "white",
           "linecolor": "white",
           "ticks": "",
           "title": {
            "standoff": 15
           },
           "zerolinecolor": "white",
           "zerolinewidth": 2
          }
         }
        },
        "title": {
         "text": "GD History : Marks are iterations."
        },
        "xaxis": {
         "anchor": "y",
         "domain": [
          0,
          1
         ],
         "title": {
          "text": "x"
         }
        },
        "yaxis": {
         "anchor": "x",
         "domain": [
          0,
          1
         ],
         "title": {
          "text": "y"
         }
        }
       }
      }
     },
     "metadata": {},
     "output_type": "display_data"
    }
   ],
   "source": [
    "import numpy as np\n",
    "import plotly.express as px\n",
    "import plotly.graph_objects as go\n",
    "\n",
    "\n",
    "# Training data\n",
    "x_train = np.arange(0.0, 1.0, 0.025)\n",
    "y_train = 0.4 + x_train * 0.55 + np.random.randn(x_train.shape[0]) * 0.2\n",
    "\n",
    "def gradient_of_J(theta, x, y):\n",
    "    # \n",
    "    y_hat = theta\n",
    "    \n",
    "    # dL / dy_hat\n",
    "    dLdy = (y_hat - y)\n",
    "    \n",
    "    # dy_hat / dTheta\n",
    "    dy_HatdTheta = 1\n",
    "    \n",
    "    # chain rule\n",
    "    dLdTheta = dLdy * dy_HatdTheta\n",
    "    \n",
    "    return dLdTheta\n",
    "\n",
    "\n",
    "def calculate_l2_loss_non_vectorized(theta, xs, ys):\n",
    "    loss = 0.0\n",
    "    for k in range(ys.shape[0]):\n",
    "        y_pred = theta \n",
    "        loss += (y_pred - ys[k])**2\n",
    "\n",
    "    \n",
    "    mean_loss = loss / ys.shape[0]\n",
    "    return mean_loss\n",
    "\n",
    "\n",
    "    \n",
    "\n",
    "initial_theta = 5.5\n",
    "\n",
    "learning_rate = -1\n",
    "theta = np.array([initial_theta])\n",
    "m = x_train.shape[0]\n",
    "n_steps = 15\n",
    "\n",
    "print(\"Running GD with initial theta: {:.2f}, learning rate: {} over {} datapoints for {} steps\".format(\n",
    "    theta.item(),\n",
    "    learning_rate,\n",
    "    m,\n",
    "    n_steps))\n",
    "\n",
    "\n",
    "\n",
    "search_history = []\n",
    "for steps in range(n_steps):    \n",
    "        \n",
    "    gradient_theta_sum = 0.0\n",
    "    for k in range(m):\n",
    "        gradient_theta_sum += gradient_of_J(theta, x_train[k], y_train[k]) \n",
    "\n",
    "    mean_gradient = (1/m) * gradient_theta_sum\n",
    "    loss = calculate_l2_loss_non_vectorized(theta, x_train, y_train)\n",
    "\n",
    "    print(\"[visit] theta: {:.2f} => loss: {:.2f}\".format(theta.item(), loss.item()))\n",
    "\n",
    "    # update theta using GD\n",
    "    theta = theta - (learning_rate * mean_gradient)\n",
    "    search_history.append((theta, loss))\n",
    "\n",
    "    \n",
    "\n",
    "\n",
    "# quick helper to generate plots \n",
    "loss_x = np.arange(-4, 6, 0.01)\n",
    "\n",
    "loss_y = np.array([calculate_l2_loss_non_vectorized(t, x_train, y_train) for t in loss_x])\n",
    "\n",
    "fig = px.line(x=loss_x, y=loss_y, title=\"GD History : Marks are iterations.\")\n",
    "\n",
    "\n",
    "x_visit, _ = list(zip(*search_history))\n",
    "x_visit = np.concatenate(x_visit)\n",
    "y_visit = np.array([calculate_l2_loss_non_vectorized(t, x_train, y_train) for t in x_visit])\n",
    "\n",
    "fig.add_trace(go.Scatter(x=x_visit, y=y_visit, name='GD history',\n",
    "                         line = dict(color='firebrick', width=8, dash='dot')))\n",
    "\n",
    "fig.show()"
   ]
  },
  {
   "attachments": {
    "image.png": {
     "image/png": "[encoded data removed]"
    }
   },
   "cell_type": "markdown",
   "metadata": {},
   "source": [
    "#### Question 1\n",
    "![image.png](attachment:image.png)\n",
    "#### Question 2\n",
    "Using a learning rate $\\eta = 1.5$ and 15 iterations it converges.\n",
    "\n",
    "We can determine that tha algorithm has converged if there is a very small or no change at all for theta in the iterations.\n",
    "#### Question 3\n",
    "If the learing rate is above 2 or below 0 there is no convergence.\n",
    "#### Question 4 \n",
    "The optimal learning rate is 1.\n",
    "#### Question 5\n",
    "We are prepared"
   ]
  },
  {
   "cell_type": "markdown",
   "metadata": {},
   "source": [
    "## Task 4: Gradient Descent\n",
    "Below is a simple vectorized impl. of GD that *CAN* be used as a starting point. \n",
    "Please make sure you understand exactly HOW it works (so that you could have implemented one yourself).\n",
    "(Note that it uses a augmented matrix to skip the bias term).\n",
    "\n",
    "1) Change the code to handle the bias parameter directly. (No agumented matrix).\n",
    "2) Change the code to use Stochastic Gradient Descent with mini-batches. (Batch size should be 2 or more).\n",
    "3) Re-organize the code and add numba as to make the SGD go pew pew (faster). To make it easier for yourself - numba does not play nice with Jupyter, so consider running it in its own python file.\n",
    "4) *OPTIONAL* numba also supports GPU (https://numba.readthedocs.io/en/stable/cuda) implement GPU acceleration for SDG. (again: numba dont like notebooks)\n",
    "\n",
    "Numba: https://numba.readthedocs.io/en/stable/\n"
   ]
  },
  {
   "cell_type": "code",
   "execution_count": null,
   "metadata": {},
   "outputs": [
    {
     "name": "stdout",
     "output_type": "stream",
     "text": [
      "theta shape: (2, 1)\n",
      "The L2 error is: 0.03\n",
      "The L1 error is: 0.25\n",
      "R^2: 0.97\n"
     ]
    },
    {
     "data": {
      "application/vnd.plotly.v1+json": {
       "config": {
        "plotlyServerURL": "https://plot.ly"
       },
       "data": [
        {
         "hovertemplate": "variable=0<br>index=%{x}<br>value=%{y}<extra></extra>",
         "legendgroup": "0",
         "line": {
          "color": "#636efa",
          "dash": "solid"
         },
         "marker": {
          "symbol": "circle"
         },
         "mode": "lines",
         "name": "0",
         "orientation": "v",
         "showlegend": true,
         "type": "scatter",
         "x": [
          0,
          1,
          2,
          3,
          4,
          5,
          6,
          7,
          8,
          9,
          10
         ],
         "xaxis": "x",
         "y": [
          9.5,
          5.208055555555556,
          2.8578820408950616,
          1.570897705414362,
          0.866049970471271,
          0.4799465605568201,
          0.26837138080229783,
          0.15236122020337717,
          0.08868097272559344,
          0.053657849526073824,
          0.03433007825006184
         ],
         "yaxis": "y"
        }
       ],
       "layout": {
        "legend": {
         "title": {
          "text": "variable"
         },
         "tracegroupgap": 0
        },
        "template": {
         "data": {
          "bar": [
           {
            "error_x": {
             "color": "#2a3f5f"
            },
            "error_y": {
             "color": "#2a3f5f"
            },
            "marker": {
             "line": {
              "color": "#E5ECF6",
              "width": 0.5
             },
             "pattern": {
              "fillmode": "overlay",
              "size": 10,
              "solidity": 0.2
             }
            },
            "type": "bar"
           }
          ],
          "barpolar": [
           {
            "marker": {
             "line": {
              "color": "#E5ECF6",
              "width": 0.5
             },
             "pattern": {
              "fillmode": "overlay",
              "size": 10,
              "solidity": 0.2
             }
            },
            "type": "barpolar"
           }
          ],
          "carpet": [
           {
            "aaxis": {
             "endlinecolor": "#2a3f5f",
             "gridcolor": "white",
             "linecolor": "white",
             "minorgridcolor": "white",
             "startlinecolor": "#2a3f5f"
            },
            "baxis": {
             "endlinecolor": "#2a3f5f",
             "gridcolor": "white",
             "linecolor": "white",
             "minorgridcolor": "white",
             "startlinecolor": "#2a3f5f"
            },
            "type": "carpet"
           }
          ],
          "choropleth": [
           {
            "colorbar": {
             "outlinewidth": 0,
             "ticks": ""
            },
            "type": "choropleth"
           }
          ],
          "contour": [
           {
            "colorbar": {
             "outlinewidth": 0,
             "ticks": ""
            },
            "colorscale": [
             [
              0,
              "#0d0887"
             ],
             [
              0.1111111111111111,
              "#46039f"
             ],
             [
              0.2222222222222222,
              "#7201a8"
             ],
             [
              0.3333333333333333,
              "#9c179e"
             ],
             [
              0.4444444444444444,
              "#bd3786"
             ],
             [
              0.5555555555555556,
              "#d8576b"
             ],
             [
              0.6666666666666666,
              "#ed7953"
             ],
             [
              0.7777777777777778,
              "#fb9f3a"
             ],
             [
              0.8888888888888888,
              "#fdca26"
             ],
             [
              1,
              "#f0f921"
             ]
            ],
            "type": "contour"
           }
          ],
          "contourcarpet": [
           {
            "colorbar": {
             "outlinewidth": 0,
             "ticks": ""
            },
            "type": "contourcarpet"
           }
          ],
          "heatmap": [
           {
            "colorbar": {
             "outlinewidth": 0,
             "ticks": ""
            },
            "colorscale": [
             [
              0,
              "#0d0887"
             ],
             [
              0.1111111111111111,
              "#46039f"
             ],
             [
              0.2222222222222222,
              "#7201a8"
             ],
             [
              0.3333333333333333,
              "#9c179e"
             ],
             [
              0.4444444444444444,
              "#bd3786"
             ],
             [
              0.5555555555555556,
              "#d8576b"
             ],
             [
              0.6666666666666666,
              "#ed7953"
             ],
             [
              0.7777777777777778,
              "#fb9f3a"
             ],
             [
              0.8888888888888888,
              "#fdca26"
             ],
             [
              1,
              "#f0f921"
             ]
            ],
            "type": "heatmap"
           }
          ],
          "heatmapgl": [
           {
            "colorbar": {
             "outlinewidth": 0,
             "ticks": ""
            },
            "colorscale": [
             [
              0,
              "#0d0887"
             ],
             [
              0.1111111111111111,
              "#46039f"
             ],
             [
              0.2222222222222222,
              "#7201a8"
             ],
             [
              0.3333333333333333,
              "#9c179e"
             ],
             [
              0.4444444444444444,
              "#bd3786"
             ],
             [
              0.5555555555555556,
              "#d8576b"
             ],
             [
              0.6666666666666666,
              "#ed7953"
             ],
             [
              0.7777777777777778,
              "#fb9f3a"
             ],
             [
              0.8888888888888888,
              "#fdca26"
             ],
             [
              1,
              "#f0f921"
             ]
            ],
            "type": "heatmapgl"
           }
          ],
          "histogram": [
           {
            "marker": {
             "pattern": {
              "fillmode": "overlay",
              "size": 10,
              "solidity": 0.2
             }
            },
            "type": "histogram"
           }
          ],
          "histogram2d": [
           {
            "colorbar": {
             "outlinewidth": 0,
             "ticks": ""
            },
            "colorscale": [
             [
              0,
              "#0d0887"
             ],
             [
              0.1111111111111111,
              "#46039f"
             ],
             [
              0.2222222222222222,
              "#7201a8"
             ],
             [
              0.3333333333333333,
              "#9c179e"
             ],
             [
              0.4444444444444444,
              "#bd3786"
             ],
             [
              0.5555555555555556,
              "#d8576b"
             ],
             [
              0.6666666666666666,
              "#ed7953"
             ],
             [
              0.7777777777777778,
              "#fb9f3a"
             ],
             [
              0.8888888888888888,
              "#fdca26"
             ],
             [
              1,
              "#f0f921"
             ]
            ],
            "type": "histogram2d"
           }
          ],
          "histogram2dcontour": [
           {
            "colorbar": {
             "outlinewidth": 0,
             "ticks": ""
            },
            "colorscale": [
             [
              0,
              "#0d0887"
             ],
             [
              0.1111111111111111,
              "#46039f"
             ],
             [
              0.2222222222222222,
              "#7201a8"
             ],
             [
              0.3333333333333333,
              "#9c179e"
             ],
             [
              0.4444444444444444,
              "#bd3786"
             ],
             [
              0.5555555555555556,
              "#d8576b"
             ],
             [
              0.6666666666666666,
              "#ed7953"
             ],
             [
              0.7777777777777778,
              "#fb9f3a"
             ],
             [
              0.8888888888888888,
              "#fdca26"
             ],
             [
              1,
              "#f0f921"
             ]
            ],
            "type": "histogram2dcontour"
           }
          ],
          "mesh3d": [
           {
            "colorbar": {
             "outlinewidth": 0,
             "ticks": ""
            },
            "type": "mesh3d"
           }
          ],
          "parcoords": [
           {
            "line": {
             "colorbar": {
              "outlinewidth": 0,
              "ticks": ""
             }
            },
            "type": "parcoords"
           }
          ],
          "pie": [
           {
            "automargin": true,
            "type": "pie"
           }
          ],
          "scatter": [
           {
            "fillpattern": {
             "fillmode": "overlay",
             "size": 10,
             "solidity": 0.2
            },
            "type": "scatter"
           }
          ],
          "scatter3d": [
           {
            "line": {
             "colorbar": {
              "outlinewidth": 0,
              "ticks": ""
             }
            },
            "marker": {
             "colorbar": {
              "outlinewidth": 0,
              "ticks": ""
             }
            },
            "type": "scatter3d"
           }
          ],
          "scattercarpet": [
           {
            "marker": {
             "colorbar": {
              "outlinewidth": 0,
              "ticks": ""
             }
            },
            "type": "scattercarpet"
           }
          ],
          "scattergeo": [
           {
            "marker": {
             "colorbar": {
              "outlinewidth": 0,
              "ticks": ""
             }
            },
            "type": "scattergeo"
           }
          ],
          "scattergl": [
           {
            "marker": {
             "colorbar": {
              "outlinewidth": 0,
              "ticks": ""
             }
            },
            "type": "scattergl"
           }
          ],
          "scattermapbox": [
           {
            "marker": {
             "colorbar": {
              "outlinewidth": 0,
              "ticks": ""
             }
            },
            "type": "scattermapbox"
           }
          ],
          "scatterpolar": [
           {
            "marker": {
             "colorbar": {
              "outlinewidth": 0,
              "ticks": ""
             }
            },
            "type": "scatterpolar"
           }
          ],
          "scatterpolargl": [
           {
            "marker": {
             "colorbar": {
              "outlinewidth": 0,
              "ticks": ""
             }
            },
            "type": "scatterpolargl"
           }
          ],
          "scatterternary": [
           {
            "marker": {
             "colorbar": {
              "outlinewidth": 0,
              "ticks": ""
             }
            },
            "type": "scatterternary"
           }
          ],
          "surface": [
           {
            "colorbar": {
             "outlinewidth": 0,
             "ticks": ""
            },
            "colorscale": [
             [
              0,
              "#0d0887"
             ],
             [
              0.1111111111111111,
              "#46039f"
             ],
             [
              0.2222222222222222,
              "#7201a8"
             ],
             [
              0.3333333333333333,
              "#9c179e"
             ],
             [
              0.4444444444444444,
              "#bd3786"
             ],
             [
              0.5555555555555556,
              "#d8576b"
             ],
             [
              0.6666666666666666,
              "#ed7953"
             ],
             [
              0.7777777777777778,
              "#fb9f3a"
             ],
             [
              0.8888888888888888,
              "#fdca26"
             ],
             [
              1,
              "#f0f921"
             ]
            ],
            "type": "surface"
           }
          ],
          "table": [
           {
            "cells": {
             "fill": {
              "color": "#EBF0F8"
             },
             "line": {
              "color": "white"
             }
            },
            "header": {
             "fill": {
              "color": "#C8D4E3"
             },
             "line": {
              "color": "white"
             }
            },
            "type": "table"
           }
          ]
         },
         "layout": {
          "annotationdefaults": {
           "arrowcolor": "#2a3f5f",
           "arrowhead": 0,
           "arrowwidth": 1
          },
          "autotypenumbers": "strict",
          "coloraxis": {
           "colorbar": {
            "outlinewidth": 0,
            "ticks": ""
           }
          },
          "colorscale": {
           "diverging": [
            [
             0,
             "#8e0152"
            ],
            [
             0.1,
             "#c51b7d"
            ],
            [
             0.2,
             "#de77ae"
            ],
            [
             0.3,
             "#f1b6da"
            ],
            [
             0.4,
             "#fde0ef"
            ],
            [
             0.5,
             "#f7f7f7"
            ],
            [
             0.6,
             "#e6f5d0"
            ],
            [
             0.7,
             "#b8e186"
            ],
            [
             0.8,
             "#7fbc41"
            ],
            [
             0.9,
             "#4d9221"
            ],
            [
             1,
             "#276419"
            ]
           ],
           "sequential": [
            [
             0,
             "#0d0887"
            ],
            [
             0.1111111111111111,
             "#46039f"
            ],
            [
             0.2222222222222222,
             "#7201a8"
            ],
            [
             0.3333333333333333,
             "#9c179e"
            ],
            [
             0.4444444444444444,
             "#bd3786"
            ],
            [
             0.5555555555555556,
             "#d8576b"
            ],
            [
             0.6666666666666666,
             "#ed7953"
            ],
            [
             0.7777777777777778,
             "#fb9f3a"
            ],
            [
             0.8888888888888888,
             "#fdca26"
            ],
            [
             1,
             "#f0f921"
            ]
           ],
           "sequentialminus": [
            [
             0,
             "#0d0887"
            ],
            [
             0.1111111111111111,
             "#46039f"
            ],
            [
             0.2222222222222222,
             "#7201a8"
            ],
            [
             0.3333333333333333,
             "#9c179e"
            ],
            [
             0.4444444444444444,
             "#bd3786"
            ],
            [
             0.5555555555555556,
             "#d8576b"
            ],
            [
             0.6666666666666666,
             "#ed7953"
            ],
            [
             0.7777777777777778,
             "#fb9f3a"
            ],
            [
             0.8888888888888888,
             "#fdca26"
            ],
            [
             1,
             "#f0f921"
            ]
           ]
          },
          "colorway": [
           "#636efa",
           "#EF553B",
           "#00cc96",
           "#ab63fa",
           "#FFA15A",
           "#19d3f3",
           "#FF6692",
           "#B6E880",
           "#FF97FF",
           "#FECB52"
          ],
          "font": {
           "color": "#2a3f5f"
          },
          "geo": {
           "bgcolor": "white",
           "lakecolor": "white",
           "landcolor": "#E5ECF6",
           "showlakes": true,
           "showland": true,
           "subunitcolor": "white"
          },
          "hoverlabel": {
           "align": "left"
          },
          "hovermode": "closest",
          "mapbox": {
           "style": "light"
          },
          "paper_bgcolor": "white",
          "plot_bgcolor": "#E5ECF6",
          "polar": {
           "angularaxis": {
            "gridcolor": "white",
            "linecolor": "white",
            "ticks": ""
           },
           "bgcolor": "#E5ECF6",
           "radialaxis": {
            "gridcolor": "white",
            "linecolor": "white",
            "ticks": ""
           }
          },
          "scene": {
           "xaxis": {
            "backgroundcolor": "#E5ECF6",
            "gridcolor": "white",
            "gridwidth": 2,
            "linecolor": "white",
            "showbackground": true,
            "ticks": "",
            "zerolinecolor": "white"
           },
           "yaxis": {
            "backgroundcolor": "#E5ECF6",
            "gridcolor": "white",
            "gridwidth": 2,
            "linecolor": "white",
            "showbackground": true,
            "ticks": "",
            "zerolinecolor": "white"
           },
           "zaxis": {
            "backgroundcolor": "#E5ECF6",
            "gridcolor": "white",
            "gridwidth": 2,
            "linecolor": "white",
            "showbackground": true,
            "ticks": "",
            "zerolinecolor": "white"
           }
          },
          "shapedefaults": {
           "line": {
            "color": "#2a3f5f"
           }
          },
          "ternary": {
           "aaxis": {
            "gridcolor": "white",
            "linecolor": "white",
            "ticks": ""
           },
           "baxis": {
            "gridcolor": "white",
            "linecolor": "white",
            "ticks": ""
           },
           "bgcolor": "#E5ECF6",
           "caxis": {
            "gridcolor": "white",
            "linecolor": "white",
            "ticks": ""
           }
          },
          "title": {
           "x": 0.05
          },
          "xaxis": {
           "automargin": true,
           "gridcolor": "white",
           "linecolor": "white",
           "ticks": "",
           "title": {
            "standoff": 15
           },
           "zerolinecolor": "white",
           "zerolinewidth": 2
          },
          "yaxis": {
           "automargin": true,
           "gridcolor": "white",
           "linecolor": "white",
           "ticks": "",
           "title": {
            "standoff": 15
           },
           "zerolinecolor": "white",
           "zerolinewidth": 2
          }
         }
        },
        "title": {
         "text": "J(theta) - Loss History"
        },
        "xaxis": {
         "anchor": "y",
         "domain": [
          0,
          1
         ],
         "title": {
          "text": "index"
         }
        },
        "yaxis": {
         "anchor": "x",
         "domain": [
          0,
          1
         ],
         "title": {
          "text": "value"
         }
        }
       }
      }
     },
     "metadata": {},
     "output_type": "display_data"
    }
   ],
   "source": [
    "import numpy as np\n",
    "import plotly.express as px\n",
    "\n",
    "# Vectorized GD without augmented matrix: handle bias separately\n",
    "def predict(theta, bias, X):\n",
    "    return X.dot(theta) + bias\n",
    "\n",
    "def J_squared_residual(theta, bias, X, y):\n",
    "    h = predict(theta, bias, X)\n",
    "    return ((h - y)**2).sum()\n",
    "\n",
    "def gradient_J_squared_residual(theta, bias, X, y):\n",
    "    h = predict(theta, bias, X)\n",
    "    error = (h - y)                         # shape (m,1)\n",
    "    grad_theta = X.T.dot(error)            # shape (n_features,1)\n",
    "    grad_bias = np.sum(error)              # scalar\n",
    "    return grad_theta, grad_bias\n",
    "\n",
    "# the dataset: plain features (no column of ones) and targets\n",
    "X = np.array([[0.5], [1.0], [2.0]])    # shape (m, n_features)\n",
    "y = np.array([[1.0], [1.5], [2.5]])    # shape (m, 1)\n",
    "m, n_features = X.shape\n",
    "\n",
    "# variables we need\n",
    "theta = np.zeros((n_features, 1))    # weight vector (n_features,1)\n",
    "bias = 0.0                           # scalar bias\n",
    "learning_rate = 0.1\n",
    "\n",
    "# run GD\n",
    "j_history = []\n",
    "n_iters = 10\n",
    "for it in range(n_iters):\n",
    "    j = J_squared_residual(theta, bias, X, y)\n",
    "    j_history.append(j)\n",
    "\n",
    "    grad_theta, grad_bias = gradient_J_squared_residual(theta, bias, X, y)\n",
    "\n",
    "    # mean gradients\n",
    "    grad_theta = (1/m) * grad_theta\n",
    "    grad_bias = (1/m) * grad_bias\n",
    "\n",
    "    # parameter updates\n",
    "    theta = theta - learning_rate * grad_theta\n",
    "    bias = bias - learning_rate * grad_bias\n",
    "\n",
    "print(\"theta shape:\", theta.shape)\n",
    "\n",
    "# append the final result.\n",
    "j = J_squared_residual(theta, bias, X, y)\n",
    "j_history.append(j)\n",
    "print(\"The L2 error (sum squared residuals) is: {:.6f}\".format(j))\n",
    "\n",
    "# find the L1 error.\n",
    "y_pred = predict(theta, bias, X)\n",
    "l1_error = np.abs(y_pred - y).sum()\n",
    "print(\"The L1 error is: {:.6f}\".format(l1_error))\n",
    "\n",
    "# Find the R^2 \n",
    "u = ((y - y_pred)**2).sum()\n",
    "v = ((y - y.mean())**2).sum()\n",
    "print(\"R^2: {:.6f}\".format(1 - (u/v)))\n",
    "\n",
    "# plot the result\n",
    "fig = px.line(j_history, title=\"J(theta) - Loss History\")\n",
    "fig.show()\n"
   ]
  },
  {
   "cell_type": "markdown",
   "metadata": {},
   "source": [
    "# KKD Real Estate\n",
    "\n",
    "### Note: no pandas, sklearn or similar libraries should be used, numpy, dash, numba and plotly should be sufficient. Ask if you wonder about a library.\n",
    "### Implementing your own SGD/GD is a core component of this task.\n",
    "\n",
    "The project consists of 5 parts: \n",
    "\n",
    "1) \n",
    "Go though the data and understand how encode the various features. \n",
    "* Clean the data for potential noise and simply wrong input.\n",
    "* Make sure you identify how a linear classifier will be affected by the encoding scheme. \n",
    "* How do you handle missing data?\n",
    "* How are the different features connected?\n",
    "* Encode the features.\n",
    "\n",
    "2) \n",
    "Identify objectives that could be valuable for KKD Real Estate, the objectives comes in two flavors:\n",
    "* Answering questions, such as: What is a fair price for our ad packages? How is our best agent?\n",
    "* Creating dashboards/interfaces that for instance: can predict the marked price for a house or maybe tell \n",
    "the probability of the house being sold in X amount of days?\n",
    "* To pass the handin you at least need to implement a price model. \n",
    "\n",
    "3) \n",
    "Train one/many linear model(s) based on the data to solve the objectives.\n",
    "\n",
    "4) \n",
    "Implement the dashboard interface such that we can input the nessesary parameters.\n",
    "(See 'kkd_dashboard.py' on canvas for a potential starting point for the dashboard.)  \n",
    "This interface should be powered by your models.\n",
    "\n",
    "5) \n",
    "A client wants to know how the price model works, my inspecting the weights (that is: $\\theta$) give a \n",
    "overview of the most important factors in the model. What are *key-drives* in the model?\n",
    "\n",
    "\n",
    "### Deliverables\n",
    "A presentation of the findings, a short written log of the work (bullet points / jupyter), a dashboard, and all code that you have.\n",
    "\n",
    "\n",
    "### Dataset\n",
    "* agents.jsonl - the real estate agents.\n",
    "* districts.jsonl - the city districts\n",
    "* houses.jsonl - the houses that has been on the marked the last year\n",
    "* schools.jsonl - info about the schools in the districts\n",
    "\n",
    "\n"
   ]
  }
 ],
 "metadata": {
  "kernelspec": {
   "display_name": "Python 3",
   "language": "python",
   "name": "python3"
  },
  "language_info": {
   "codemirror_mode": {
    "name": "ipython",
    "version": 3
   },
   "file_extension": ".py",
   "mimetype": "text/x-python",
   "name": "python",
   "nbconvert_exporter": "python",
   "pygments_lexer": "ipython3",
   "version": "3.13.9"
  }
 },
 "nbformat": 4,
 "nbformat_minor": 4
}
